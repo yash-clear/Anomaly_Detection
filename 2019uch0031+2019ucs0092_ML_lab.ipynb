{
  "nbformat": 4,
  "nbformat_minor": 0,
  "metadata": {
    "colab": {
      "name": "2019uch0031+2019ucs0092_ML_lab.ipynb",
      "provenance": [],
      "collapsed_sections": [],
      "include_colab_link": true
    },
    "kernelspec": {
      "name": "python3",
      "display_name": "Python 3"
    }
  },
  "cells": [
    {
      "cell_type": "markdown",
      "metadata": {
        "id": "view-in-github",
        "colab_type": "text"
      },
      "source": [
        "<a href=\"https://colab.research.google.com/github/yash-clear/Anomaly_Detection/blob/main/2019uch0031%2B2019ucs0092_ML_lab.ipynb\" target=\"_parent\"><img src=\"https://colab.research.google.com/assets/colab-badge.svg\" alt=\"Open In Colab\"/></a>"
      ]
    },
    {
      "cell_type": "markdown",
      "source": [
        "\n",
        "\n",
        "```\n",
        "`# This is formatted as code`\n",
        "```\n",
        "\n",
        "# ASSIGNMENT -1\n",
        "\n",
        "The goal of this assignment is\n",
        "to take new cases as target variable and predict them from mobility data.\n"
      ],
      "metadata": {
        "id": "YvnevlwAN8rL"
      }
    },
    {
      "cell_type": "markdown",
      "source": [
        "## TASK PERFORMED BY : YASHASWITA SINGH (2019UCH0031)\n",
        "##                     ANKUSH GARG (2019UCS0092)"
      ],
      "metadata": {
        "id": "a4VhpmZWYkuA"
      }
    },
    {
      "cell_type": "markdown",
      "source": [
        "Language: Python"
      ],
      "metadata": {
        "id": "BZIRcZbeZwj6"
      }
    },
    {
      "cell_type": "code",
      "source": [
        "#Importing essential libraries \n",
        "\n",
        "import pandas as pd\n",
        "import plotly.express as px\n",
        "import seaborn as sns\n",
        "from copy import copy\n",
        "from scipy import stats\n",
        "import matplotlib.pyplot as plt\n",
        "import numpy as np\n"
      ],
      "metadata": {
        "id": "NMX6NldQN8vB"
      },
      "execution_count": null,
      "outputs": []
    },
    {
      "cell_type": "markdown",
      "source": [
        "IMPORTING DATASET"
      ],
      "metadata": {
        "id": "Ri2EeNvcRW16"
      }
    },
    {
      "cell_type": "code",
      "source": [
        "df1 = pd.read_csv('/content/changes-visitors-covid (1).csv')\n",
        "df2 = pd.read_csv('/content/owid-covid-data (1).csv')"
      ],
      "metadata": {
        "id": "-9C8rlFzN8y_"
      },
      "execution_count": null,
      "outputs": []
    },
    {
      "cell_type": "markdown",
      "source": [
        "Take “India” as the\n",
        "case study for this assignment."
      ],
      "metadata": {
        "id": "wsFvRb4ZRcNW"
      }
    },
    {
      "cell_type": "code",
      "source": [
        "india_df1 = df1[df1['Entity'] == \"India\"]\n",
        "india_df2 = df2[df2['iso_code']=='IND']"
      ],
      "metadata": {
        "id": "U0wtKmUya2st"
      },
      "execution_count": null,
      "outputs": []
    },
    {
      "cell_type": "code",
      "source": [
        "india_df1.reset_index(inplace = True)\n",
        "india_df2.reset_index(inplace = True)"
      ],
      "metadata": {
        "id": "id3gmfUIaHn9"
      },
      "execution_count": null,
      "outputs": []
    },
    {
      "cell_type": "code",
      "source": [
        "india_df1"
      ],
      "metadata": {
        "id": "x1nCmdmq0ofx",
        "colab": {
          "base_uri": "https://localhost:8080/",
          "height": 423
        },
        "outputId": "d195065f-04b8-4698-869f-97f34e5d4bd9"
      },
      "execution_count": null,
      "outputs": [
        {
          "output_type": "execute_result",
          "data": {
            "text/plain": [
              "     index Entity Code         Day  retail_and_recreation  \\\n",
              "0    23897  India  IND  2020-02-17                  0.667   \n",
              "1    23898  India  IND  2020-02-18                  0.500   \n",
              "2    23899  India  IND  2020-02-19                  0.400   \n",
              "3    23900  India  IND  2020-02-20                  0.500   \n",
              "4    23901  India  IND  2020-02-21                 -0.143   \n",
              "..     ...    ...  ...         ...                    ...   \n",
              "466  24363  India  IND  2021-05-28                -61.714   \n",
              "467  24364  India  IND  2021-05-29                -61.286   \n",
              "468  24365  India  IND  2021-05-30                -61.143   \n",
              "469  24366  India  IND  2021-05-31                -60.143   \n",
              "470  24367  India  IND  2021-06-01                -58.714   \n",
              "\n",
              "     grocery_and_pharmacy  residential  transit_stations   parks  workplaces  \n",
              "0                   1.667        0.000             2.000   3.000       3.000  \n",
              "1                   1.750        0.000             2.000   3.250       3.000  \n",
              "2                   1.800        0.200             1.800   2.800       3.200  \n",
              "3                   2.000        0.000             2.333   3.167       3.333  \n",
              "4                   1.714        0.714             1.429   3.571       0.143  \n",
              "..                    ...          ...               ...     ...         ...  \n",
              "466               -25.000       24.143           -49.143 -41.000     -45.429  \n",
              "467               -24.429       23.714           -48.714 -40.000     -44.571  \n",
              "468               -24.714       23.714           -49.000 -39.143     -44.286  \n",
              "469               -23.429       23.286           -48.286 -38.000     -43.429  \n",
              "470               -21.143       22.714           -47.000 -36.571     -42.429  \n",
              "\n",
              "[471 rows x 10 columns]"
            ],
            "text/html": [
              "\n",
              "  <div id=\"df-5fa98457-efd6-4067-95a2-8240ae31a6dd\">\n",
              "    <div class=\"colab-df-container\">\n",
              "      <div>\n",
              "<style scoped>\n",
              "    .dataframe tbody tr th:only-of-type {\n",
              "        vertical-align: middle;\n",
              "    }\n",
              "\n",
              "    .dataframe tbody tr th {\n",
              "        vertical-align: top;\n",
              "    }\n",
              "\n",
              "    .dataframe thead th {\n",
              "        text-align: right;\n",
              "    }\n",
              "</style>\n",
              "<table border=\"1\" class=\"dataframe\">\n",
              "  <thead>\n",
              "    <tr style=\"text-align: right;\">\n",
              "      <th></th>\n",
              "      <th>index</th>\n",
              "      <th>Entity</th>\n",
              "      <th>Code</th>\n",
              "      <th>Day</th>\n",
              "      <th>retail_and_recreation</th>\n",
              "      <th>grocery_and_pharmacy</th>\n",
              "      <th>residential</th>\n",
              "      <th>transit_stations</th>\n",
              "      <th>parks</th>\n",
              "      <th>workplaces</th>\n",
              "    </tr>\n",
              "  </thead>\n",
              "  <tbody>\n",
              "    <tr>\n",
              "      <th>0</th>\n",
              "      <td>23897</td>\n",
              "      <td>India</td>\n",
              "      <td>IND</td>\n",
              "      <td>2020-02-17</td>\n",
              "      <td>0.667</td>\n",
              "      <td>1.667</td>\n",
              "      <td>0.000</td>\n",
              "      <td>2.000</td>\n",
              "      <td>3.000</td>\n",
              "      <td>3.000</td>\n",
              "    </tr>\n",
              "    <tr>\n",
              "      <th>1</th>\n",
              "      <td>23898</td>\n",
              "      <td>India</td>\n",
              "      <td>IND</td>\n",
              "      <td>2020-02-18</td>\n",
              "      <td>0.500</td>\n",
              "      <td>1.750</td>\n",
              "      <td>0.000</td>\n",
              "      <td>2.000</td>\n",
              "      <td>3.250</td>\n",
              "      <td>3.000</td>\n",
              "    </tr>\n",
              "    <tr>\n",
              "      <th>2</th>\n",
              "      <td>23899</td>\n",
              "      <td>India</td>\n",
              "      <td>IND</td>\n",
              "      <td>2020-02-19</td>\n",
              "      <td>0.400</td>\n",
              "      <td>1.800</td>\n",
              "      <td>0.200</td>\n",
              "      <td>1.800</td>\n",
              "      <td>2.800</td>\n",
              "      <td>3.200</td>\n",
              "    </tr>\n",
              "    <tr>\n",
              "      <th>3</th>\n",
              "      <td>23900</td>\n",
              "      <td>India</td>\n",
              "      <td>IND</td>\n",
              "      <td>2020-02-20</td>\n",
              "      <td>0.500</td>\n",
              "      <td>2.000</td>\n",
              "      <td>0.000</td>\n",
              "      <td>2.333</td>\n",
              "      <td>3.167</td>\n",
              "      <td>3.333</td>\n",
              "    </tr>\n",
              "    <tr>\n",
              "      <th>4</th>\n",
              "      <td>23901</td>\n",
              "      <td>India</td>\n",
              "      <td>IND</td>\n",
              "      <td>2020-02-21</td>\n",
              "      <td>-0.143</td>\n",
              "      <td>1.714</td>\n",
              "      <td>0.714</td>\n",
              "      <td>1.429</td>\n",
              "      <td>3.571</td>\n",
              "      <td>0.143</td>\n",
              "    </tr>\n",
              "    <tr>\n",
              "      <th>...</th>\n",
              "      <td>...</td>\n",
              "      <td>...</td>\n",
              "      <td>...</td>\n",
              "      <td>...</td>\n",
              "      <td>...</td>\n",
              "      <td>...</td>\n",
              "      <td>...</td>\n",
              "      <td>...</td>\n",
              "      <td>...</td>\n",
              "      <td>...</td>\n",
              "    </tr>\n",
              "    <tr>\n",
              "      <th>466</th>\n",
              "      <td>24363</td>\n",
              "      <td>India</td>\n",
              "      <td>IND</td>\n",
              "      <td>2021-05-28</td>\n",
              "      <td>-61.714</td>\n",
              "      <td>-25.000</td>\n",
              "      <td>24.143</td>\n",
              "      <td>-49.143</td>\n",
              "      <td>-41.000</td>\n",
              "      <td>-45.429</td>\n",
              "    </tr>\n",
              "    <tr>\n",
              "      <th>467</th>\n",
              "      <td>24364</td>\n",
              "      <td>India</td>\n",
              "      <td>IND</td>\n",
              "      <td>2021-05-29</td>\n",
              "      <td>-61.286</td>\n",
              "      <td>-24.429</td>\n",
              "      <td>23.714</td>\n",
              "      <td>-48.714</td>\n",
              "      <td>-40.000</td>\n",
              "      <td>-44.571</td>\n",
              "    </tr>\n",
              "    <tr>\n",
              "      <th>468</th>\n",
              "      <td>24365</td>\n",
              "      <td>India</td>\n",
              "      <td>IND</td>\n",
              "      <td>2021-05-30</td>\n",
              "      <td>-61.143</td>\n",
              "      <td>-24.714</td>\n",
              "      <td>23.714</td>\n",
              "      <td>-49.000</td>\n",
              "      <td>-39.143</td>\n",
              "      <td>-44.286</td>\n",
              "    </tr>\n",
              "    <tr>\n",
              "      <th>469</th>\n",
              "      <td>24366</td>\n",
              "      <td>India</td>\n",
              "      <td>IND</td>\n",
              "      <td>2021-05-31</td>\n",
              "      <td>-60.143</td>\n",
              "      <td>-23.429</td>\n",
              "      <td>23.286</td>\n",
              "      <td>-48.286</td>\n",
              "      <td>-38.000</td>\n",
              "      <td>-43.429</td>\n",
              "    </tr>\n",
              "    <tr>\n",
              "      <th>470</th>\n",
              "      <td>24367</td>\n",
              "      <td>India</td>\n",
              "      <td>IND</td>\n",
              "      <td>2021-06-01</td>\n",
              "      <td>-58.714</td>\n",
              "      <td>-21.143</td>\n",
              "      <td>22.714</td>\n",
              "      <td>-47.000</td>\n",
              "      <td>-36.571</td>\n",
              "      <td>-42.429</td>\n",
              "    </tr>\n",
              "  </tbody>\n",
              "</table>\n",
              "<p>471 rows × 10 columns</p>\n",
              "</div>\n",
              "      <button class=\"colab-df-convert\" onclick=\"convertToInteractive('df-5fa98457-efd6-4067-95a2-8240ae31a6dd')\"\n",
              "              title=\"Convert this dataframe to an interactive table.\"\n",
              "              style=\"display:none;\">\n",
              "        \n",
              "  <svg xmlns=\"http://www.w3.org/2000/svg\" height=\"24px\"viewBox=\"0 0 24 24\"\n",
              "       width=\"24px\">\n",
              "    <path d=\"M0 0h24v24H0V0z\" fill=\"none\"/>\n",
              "    <path d=\"M18.56 5.44l.94 2.06.94-2.06 2.06-.94-2.06-.94-.94-2.06-.94 2.06-2.06.94zm-11 1L8.5 8.5l.94-2.06 2.06-.94-2.06-.94L8.5 2.5l-.94 2.06-2.06.94zm10 10l.94 2.06.94-2.06 2.06-.94-2.06-.94-.94-2.06-.94 2.06-2.06.94z\"/><path d=\"M17.41 7.96l-1.37-1.37c-.4-.4-.92-.59-1.43-.59-.52 0-1.04.2-1.43.59L10.3 9.45l-7.72 7.72c-.78.78-.78 2.05 0 2.83L4 21.41c.39.39.9.59 1.41.59.51 0 1.02-.2 1.41-.59l7.78-7.78 2.81-2.81c.8-.78.8-2.07 0-2.86zM5.41 20L4 18.59l7.72-7.72 1.47 1.35L5.41 20z\"/>\n",
              "  </svg>\n",
              "      </button>\n",
              "      \n",
              "  <style>\n",
              "    .colab-df-container {\n",
              "      display:flex;\n",
              "      flex-wrap:wrap;\n",
              "      gap: 12px;\n",
              "    }\n",
              "\n",
              "    .colab-df-convert {\n",
              "      background-color: #E8F0FE;\n",
              "      border: none;\n",
              "      border-radius: 50%;\n",
              "      cursor: pointer;\n",
              "      display: none;\n",
              "      fill: #1967D2;\n",
              "      height: 32px;\n",
              "      padding: 0 0 0 0;\n",
              "      width: 32px;\n",
              "    }\n",
              "\n",
              "    .colab-df-convert:hover {\n",
              "      background-color: #E2EBFA;\n",
              "      box-shadow: 0px 1px 2px rgba(60, 64, 67, 0.3), 0px 1px 3px 1px rgba(60, 64, 67, 0.15);\n",
              "      fill: #174EA6;\n",
              "    }\n",
              "\n",
              "    [theme=dark] .colab-df-convert {\n",
              "      background-color: #3B4455;\n",
              "      fill: #D2E3FC;\n",
              "    }\n",
              "\n",
              "    [theme=dark] .colab-df-convert:hover {\n",
              "      background-color: #434B5C;\n",
              "      box-shadow: 0px 1px 3px 1px rgba(0, 0, 0, 0.15);\n",
              "      filter: drop-shadow(0px 1px 2px rgba(0, 0, 0, 0.3));\n",
              "      fill: #FFFFFF;\n",
              "    }\n",
              "  </style>\n",
              "\n",
              "      <script>\n",
              "        const buttonEl =\n",
              "          document.querySelector('#df-5fa98457-efd6-4067-95a2-8240ae31a6dd button.colab-df-convert');\n",
              "        buttonEl.style.display =\n",
              "          google.colab.kernel.accessAllowed ? 'block' : 'none';\n",
              "\n",
              "        async function convertToInteractive(key) {\n",
              "          const element = document.querySelector('#df-5fa98457-efd6-4067-95a2-8240ae31a6dd');\n",
              "          const dataTable =\n",
              "            await google.colab.kernel.invokeFunction('convertToInteractive',\n",
              "                                                     [key], {});\n",
              "          if (!dataTable) return;\n",
              "\n",
              "          const docLinkHtml = 'Like what you see? Visit the ' +\n",
              "            '<a target=\"_blank\" href=https://colab.research.google.com/notebooks/data_table.ipynb>data table notebook</a>'\n",
              "            + ' to learn more about interactive tables.';\n",
              "          element.innerHTML = '';\n",
              "          dataTable['output_type'] = 'display_data';\n",
              "          await google.colab.output.renderOutput(dataTable, element);\n",
              "          const docLink = document.createElement('div');\n",
              "          docLink.innerHTML = docLinkHtml;\n",
              "          element.appendChild(docLink);\n",
              "        }\n",
              "      </script>\n",
              "    </div>\n",
              "  </div>\n",
              "  "
            ]
          },
          "metadata": {},
          "execution_count": 521
        }
      ]
    },
    {
      "cell_type": "code",
      "source": [
        "india_df1.drop(['index'], axis=1, inplace = True)\n",
        "india_df2.drop(['index'], axis=1, inplace = True)\n",
        "\n",
        "india_df2.drop(india_df2.columns[6:], axis=1, inplace = True)"
      ],
      "metadata": {
        "id": "VFJKX7PkaHsn",
        "colab": {
          "base_uri": "https://localhost:8080/"
        },
        "outputId": "8ad31dcd-204d-42c2-fa9b-26086f3210db"
      },
      "execution_count": null,
      "outputs": [
        {
          "output_type": "stream",
          "name": "stderr",
          "text": [
            "/usr/local/lib/python3.7/dist-packages/pandas/core/frame.py:4913: SettingWithCopyWarning: \n",
            "A value is trying to be set on a copy of a slice from a DataFrame\n",
            "\n",
            "See the caveats in the documentation: https://pandas.pydata.org/pandas-docs/stable/user_guide/indexing.html#returning-a-view-versus-a-copy\n",
            "  errors=errors,\n"
          ]
        }
      ]
    },
    {
      "cell_type": "markdown",
      "source": [
        "RESET THE INDEXES"
      ],
      "metadata": {
        "id": "rTIq7Si5Ro4J"
      }
    },
    {
      "cell_type": "code",
      "source": [
        "india_df2"
      ],
      "metadata": {
        "id": "Ag_vegYh1fe1",
        "colab": {
          "base_uri": "https://localhost:8080/",
          "height": 423
        },
        "outputId": "c718171d-4e35-4db4-ec42-147b65aaf439"
      },
      "execution_count": null,
      "outputs": [
        {
          "output_type": "execute_result",
          "data": {
            "text/plain": [
              "    iso_code continent location        date  total_cases  new_cases\n",
              "0        IND      Asia    India  2020-01-30          1.0        1.0\n",
              "1        IND      Asia    India  2020-01-31          1.0        0.0\n",
              "2        IND      Asia    India  2020-02-01          1.0        0.0\n",
              "3        IND      Asia    India  2020-02-02          2.0        1.0\n",
              "4        IND      Asia    India  2020-02-03          3.0        1.0\n",
              "..       ...       ...      ...         ...          ...        ...\n",
              "486      IND      Asia    India  2021-05-30   28047534.0   152734.0\n",
              "487      IND      Asia    India  2021-05-31   28175044.0   127510.0\n",
              "488      IND      Asia    India  2021-06-01   28307832.0   132788.0\n",
              "489      IND      Asia    India  2021-06-02   28441986.0   134154.0\n",
              "490      IND      Asia    India  2021-06-03   28574350.0   132364.0\n",
              "\n",
              "[491 rows x 6 columns]"
            ],
            "text/html": [
              "\n",
              "  <div id=\"df-998974fb-f5fe-46d1-af18-d4b6928d2585\">\n",
              "    <div class=\"colab-df-container\">\n",
              "      <div>\n",
              "<style scoped>\n",
              "    .dataframe tbody tr th:only-of-type {\n",
              "        vertical-align: middle;\n",
              "    }\n",
              "\n",
              "    .dataframe tbody tr th {\n",
              "        vertical-align: top;\n",
              "    }\n",
              "\n",
              "    .dataframe thead th {\n",
              "        text-align: right;\n",
              "    }\n",
              "</style>\n",
              "<table border=\"1\" class=\"dataframe\">\n",
              "  <thead>\n",
              "    <tr style=\"text-align: right;\">\n",
              "      <th></th>\n",
              "      <th>iso_code</th>\n",
              "      <th>continent</th>\n",
              "      <th>location</th>\n",
              "      <th>date</th>\n",
              "      <th>total_cases</th>\n",
              "      <th>new_cases</th>\n",
              "    </tr>\n",
              "  </thead>\n",
              "  <tbody>\n",
              "    <tr>\n",
              "      <th>0</th>\n",
              "      <td>IND</td>\n",
              "      <td>Asia</td>\n",
              "      <td>India</td>\n",
              "      <td>2020-01-30</td>\n",
              "      <td>1.0</td>\n",
              "      <td>1.0</td>\n",
              "    </tr>\n",
              "    <tr>\n",
              "      <th>1</th>\n",
              "      <td>IND</td>\n",
              "      <td>Asia</td>\n",
              "      <td>India</td>\n",
              "      <td>2020-01-31</td>\n",
              "      <td>1.0</td>\n",
              "      <td>0.0</td>\n",
              "    </tr>\n",
              "    <tr>\n",
              "      <th>2</th>\n",
              "      <td>IND</td>\n",
              "      <td>Asia</td>\n",
              "      <td>India</td>\n",
              "      <td>2020-02-01</td>\n",
              "      <td>1.0</td>\n",
              "      <td>0.0</td>\n",
              "    </tr>\n",
              "    <tr>\n",
              "      <th>3</th>\n",
              "      <td>IND</td>\n",
              "      <td>Asia</td>\n",
              "      <td>India</td>\n",
              "      <td>2020-02-02</td>\n",
              "      <td>2.0</td>\n",
              "      <td>1.0</td>\n",
              "    </tr>\n",
              "    <tr>\n",
              "      <th>4</th>\n",
              "      <td>IND</td>\n",
              "      <td>Asia</td>\n",
              "      <td>India</td>\n",
              "      <td>2020-02-03</td>\n",
              "      <td>3.0</td>\n",
              "      <td>1.0</td>\n",
              "    </tr>\n",
              "    <tr>\n",
              "      <th>...</th>\n",
              "      <td>...</td>\n",
              "      <td>...</td>\n",
              "      <td>...</td>\n",
              "      <td>...</td>\n",
              "      <td>...</td>\n",
              "      <td>...</td>\n",
              "    </tr>\n",
              "    <tr>\n",
              "      <th>486</th>\n",
              "      <td>IND</td>\n",
              "      <td>Asia</td>\n",
              "      <td>India</td>\n",
              "      <td>2021-05-30</td>\n",
              "      <td>28047534.0</td>\n",
              "      <td>152734.0</td>\n",
              "    </tr>\n",
              "    <tr>\n",
              "      <th>487</th>\n",
              "      <td>IND</td>\n",
              "      <td>Asia</td>\n",
              "      <td>India</td>\n",
              "      <td>2021-05-31</td>\n",
              "      <td>28175044.0</td>\n",
              "      <td>127510.0</td>\n",
              "    </tr>\n",
              "    <tr>\n",
              "      <th>488</th>\n",
              "      <td>IND</td>\n",
              "      <td>Asia</td>\n",
              "      <td>India</td>\n",
              "      <td>2021-06-01</td>\n",
              "      <td>28307832.0</td>\n",
              "      <td>132788.0</td>\n",
              "    </tr>\n",
              "    <tr>\n",
              "      <th>489</th>\n",
              "      <td>IND</td>\n",
              "      <td>Asia</td>\n",
              "      <td>India</td>\n",
              "      <td>2021-06-02</td>\n",
              "      <td>28441986.0</td>\n",
              "      <td>134154.0</td>\n",
              "    </tr>\n",
              "    <tr>\n",
              "      <th>490</th>\n",
              "      <td>IND</td>\n",
              "      <td>Asia</td>\n",
              "      <td>India</td>\n",
              "      <td>2021-06-03</td>\n",
              "      <td>28574350.0</td>\n",
              "      <td>132364.0</td>\n",
              "    </tr>\n",
              "  </tbody>\n",
              "</table>\n",
              "<p>491 rows × 6 columns</p>\n",
              "</div>\n",
              "      <button class=\"colab-df-convert\" onclick=\"convertToInteractive('df-998974fb-f5fe-46d1-af18-d4b6928d2585')\"\n",
              "              title=\"Convert this dataframe to an interactive table.\"\n",
              "              style=\"display:none;\">\n",
              "        \n",
              "  <svg xmlns=\"http://www.w3.org/2000/svg\" height=\"24px\"viewBox=\"0 0 24 24\"\n",
              "       width=\"24px\">\n",
              "    <path d=\"M0 0h24v24H0V0z\" fill=\"none\"/>\n",
              "    <path d=\"M18.56 5.44l.94 2.06.94-2.06 2.06-.94-2.06-.94-.94-2.06-.94 2.06-2.06.94zm-11 1L8.5 8.5l.94-2.06 2.06-.94-2.06-.94L8.5 2.5l-.94 2.06-2.06.94zm10 10l.94 2.06.94-2.06 2.06-.94-2.06-.94-.94-2.06-.94 2.06-2.06.94z\"/><path d=\"M17.41 7.96l-1.37-1.37c-.4-.4-.92-.59-1.43-.59-.52 0-1.04.2-1.43.59L10.3 9.45l-7.72 7.72c-.78.78-.78 2.05 0 2.83L4 21.41c.39.39.9.59 1.41.59.51 0 1.02-.2 1.41-.59l7.78-7.78 2.81-2.81c.8-.78.8-2.07 0-2.86zM5.41 20L4 18.59l7.72-7.72 1.47 1.35L5.41 20z\"/>\n",
              "  </svg>\n",
              "      </button>\n",
              "      \n",
              "  <style>\n",
              "    .colab-df-container {\n",
              "      display:flex;\n",
              "      flex-wrap:wrap;\n",
              "      gap: 12px;\n",
              "    }\n",
              "\n",
              "    .colab-df-convert {\n",
              "      background-color: #E8F0FE;\n",
              "      border: none;\n",
              "      border-radius: 50%;\n",
              "      cursor: pointer;\n",
              "      display: none;\n",
              "      fill: #1967D2;\n",
              "      height: 32px;\n",
              "      padding: 0 0 0 0;\n",
              "      width: 32px;\n",
              "    }\n",
              "\n",
              "    .colab-df-convert:hover {\n",
              "      background-color: #E2EBFA;\n",
              "      box-shadow: 0px 1px 2px rgba(60, 64, 67, 0.3), 0px 1px 3px 1px rgba(60, 64, 67, 0.15);\n",
              "      fill: #174EA6;\n",
              "    }\n",
              "\n",
              "    [theme=dark] .colab-df-convert {\n",
              "      background-color: #3B4455;\n",
              "      fill: #D2E3FC;\n",
              "    }\n",
              "\n",
              "    [theme=dark] .colab-df-convert:hover {\n",
              "      background-color: #434B5C;\n",
              "      box-shadow: 0px 1px 3px 1px rgba(0, 0, 0, 0.15);\n",
              "      filter: drop-shadow(0px 1px 2px rgba(0, 0, 0, 0.3));\n",
              "      fill: #FFFFFF;\n",
              "    }\n",
              "  </style>\n",
              "\n",
              "      <script>\n",
              "        const buttonEl =\n",
              "          document.querySelector('#df-998974fb-f5fe-46d1-af18-d4b6928d2585 button.colab-df-convert');\n",
              "        buttonEl.style.display =\n",
              "          google.colab.kernel.accessAllowed ? 'block' : 'none';\n",
              "\n",
              "        async function convertToInteractive(key) {\n",
              "          const element = document.querySelector('#df-998974fb-f5fe-46d1-af18-d4b6928d2585');\n",
              "          const dataTable =\n",
              "            await google.colab.kernel.invokeFunction('convertToInteractive',\n",
              "                                                     [key], {});\n",
              "          if (!dataTable) return;\n",
              "\n",
              "          const docLinkHtml = 'Like what you see? Visit the ' +\n",
              "            '<a target=\"_blank\" href=https://colab.research.google.com/notebooks/data_table.ipynb>data table notebook</a>'\n",
              "            + ' to learn more about interactive tables.';\n",
              "          element.innerHTML = '';\n",
              "          dataTable['output_type'] = 'display_data';\n",
              "          await google.colab.output.renderOutput(dataTable, element);\n",
              "          const docLink = document.createElement('div');\n",
              "          docLink.innerHTML = docLinkHtml;\n",
              "          element.appendChild(docLink);\n",
              "        }\n",
              "      </script>\n",
              "    </div>\n",
              "  </div>\n",
              "  "
            ]
          },
          "metadata": {},
          "execution_count": 523
        }
      ]
    },
    {
      "cell_type": "code",
      "source": [
        "\n",
        "india_df2 = india_df2[18: -2]\n",
        "india_df2.reset_index(inplace = True)"
      ],
      "metadata": {
        "id": "S9pHytneaHw2"
      },
      "execution_count": null,
      "outputs": []
    },
    {
      "cell_type": "code",
      "source": [
        "india_df2"
      ],
      "metadata": {
        "id": "-DLeOnZwaH1H",
        "colab": {
          "base_uri": "https://localhost:8080/",
          "height": 423
        },
        "outputId": "58ee8142-6f26-47bd-a2a3-5f431942639b"
      },
      "execution_count": null,
      "outputs": [
        {
          "output_type": "execute_result",
          "data": {
            "text/plain": [
              "     index iso_code continent location        date  total_cases  new_cases\n",
              "0       18      IND      Asia    India  2020-02-17          3.0        0.0\n",
              "1       19      IND      Asia    India  2020-02-18          3.0        0.0\n",
              "2       20      IND      Asia    India  2020-02-19          3.0        0.0\n",
              "3       21      IND      Asia    India  2020-02-20          3.0        0.0\n",
              "4       22      IND      Asia    India  2020-02-21          3.0        0.0\n",
              "..     ...      ...       ...      ...         ...          ...        ...\n",
              "466    484      IND      Asia    India  2021-05-28   27729247.0   173790.0\n",
              "467    485      IND      Asia    India  2021-05-29   27894800.0   165553.0\n",
              "468    486      IND      Asia    India  2021-05-30   28047534.0   152734.0\n",
              "469    487      IND      Asia    India  2021-05-31   28175044.0   127510.0\n",
              "470    488      IND      Asia    India  2021-06-01   28307832.0   132788.0\n",
              "\n",
              "[471 rows x 7 columns]"
            ],
            "text/html": [
              "\n",
              "  <div id=\"df-427c422f-f837-42f5-aaa3-e1f386d32de8\">\n",
              "    <div class=\"colab-df-container\">\n",
              "      <div>\n",
              "<style scoped>\n",
              "    .dataframe tbody tr th:only-of-type {\n",
              "        vertical-align: middle;\n",
              "    }\n",
              "\n",
              "    .dataframe tbody tr th {\n",
              "        vertical-align: top;\n",
              "    }\n",
              "\n",
              "    .dataframe thead th {\n",
              "        text-align: right;\n",
              "    }\n",
              "</style>\n",
              "<table border=\"1\" class=\"dataframe\">\n",
              "  <thead>\n",
              "    <tr style=\"text-align: right;\">\n",
              "      <th></th>\n",
              "      <th>index</th>\n",
              "      <th>iso_code</th>\n",
              "      <th>continent</th>\n",
              "      <th>location</th>\n",
              "      <th>date</th>\n",
              "      <th>total_cases</th>\n",
              "      <th>new_cases</th>\n",
              "    </tr>\n",
              "  </thead>\n",
              "  <tbody>\n",
              "    <tr>\n",
              "      <th>0</th>\n",
              "      <td>18</td>\n",
              "      <td>IND</td>\n",
              "      <td>Asia</td>\n",
              "      <td>India</td>\n",
              "      <td>2020-02-17</td>\n",
              "      <td>3.0</td>\n",
              "      <td>0.0</td>\n",
              "    </tr>\n",
              "    <tr>\n",
              "      <th>1</th>\n",
              "      <td>19</td>\n",
              "      <td>IND</td>\n",
              "      <td>Asia</td>\n",
              "      <td>India</td>\n",
              "      <td>2020-02-18</td>\n",
              "      <td>3.0</td>\n",
              "      <td>0.0</td>\n",
              "    </tr>\n",
              "    <tr>\n",
              "      <th>2</th>\n",
              "      <td>20</td>\n",
              "      <td>IND</td>\n",
              "      <td>Asia</td>\n",
              "      <td>India</td>\n",
              "      <td>2020-02-19</td>\n",
              "      <td>3.0</td>\n",
              "      <td>0.0</td>\n",
              "    </tr>\n",
              "    <tr>\n",
              "      <th>3</th>\n",
              "      <td>21</td>\n",
              "      <td>IND</td>\n",
              "      <td>Asia</td>\n",
              "      <td>India</td>\n",
              "      <td>2020-02-20</td>\n",
              "      <td>3.0</td>\n",
              "      <td>0.0</td>\n",
              "    </tr>\n",
              "    <tr>\n",
              "      <th>4</th>\n",
              "      <td>22</td>\n",
              "      <td>IND</td>\n",
              "      <td>Asia</td>\n",
              "      <td>India</td>\n",
              "      <td>2020-02-21</td>\n",
              "      <td>3.0</td>\n",
              "      <td>0.0</td>\n",
              "    </tr>\n",
              "    <tr>\n",
              "      <th>...</th>\n",
              "      <td>...</td>\n",
              "      <td>...</td>\n",
              "      <td>...</td>\n",
              "      <td>...</td>\n",
              "      <td>...</td>\n",
              "      <td>...</td>\n",
              "      <td>...</td>\n",
              "    </tr>\n",
              "    <tr>\n",
              "      <th>466</th>\n",
              "      <td>484</td>\n",
              "      <td>IND</td>\n",
              "      <td>Asia</td>\n",
              "      <td>India</td>\n",
              "      <td>2021-05-28</td>\n",
              "      <td>27729247.0</td>\n",
              "      <td>173790.0</td>\n",
              "    </tr>\n",
              "    <tr>\n",
              "      <th>467</th>\n",
              "      <td>485</td>\n",
              "      <td>IND</td>\n",
              "      <td>Asia</td>\n",
              "      <td>India</td>\n",
              "      <td>2021-05-29</td>\n",
              "      <td>27894800.0</td>\n",
              "      <td>165553.0</td>\n",
              "    </tr>\n",
              "    <tr>\n",
              "      <th>468</th>\n",
              "      <td>486</td>\n",
              "      <td>IND</td>\n",
              "      <td>Asia</td>\n",
              "      <td>India</td>\n",
              "      <td>2021-05-30</td>\n",
              "      <td>28047534.0</td>\n",
              "      <td>152734.0</td>\n",
              "    </tr>\n",
              "    <tr>\n",
              "      <th>469</th>\n",
              "      <td>487</td>\n",
              "      <td>IND</td>\n",
              "      <td>Asia</td>\n",
              "      <td>India</td>\n",
              "      <td>2021-05-31</td>\n",
              "      <td>28175044.0</td>\n",
              "      <td>127510.0</td>\n",
              "    </tr>\n",
              "    <tr>\n",
              "      <th>470</th>\n",
              "      <td>488</td>\n",
              "      <td>IND</td>\n",
              "      <td>Asia</td>\n",
              "      <td>India</td>\n",
              "      <td>2021-06-01</td>\n",
              "      <td>28307832.0</td>\n",
              "      <td>132788.0</td>\n",
              "    </tr>\n",
              "  </tbody>\n",
              "</table>\n",
              "<p>471 rows × 7 columns</p>\n",
              "</div>\n",
              "      <button class=\"colab-df-convert\" onclick=\"convertToInteractive('df-427c422f-f837-42f5-aaa3-e1f386d32de8')\"\n",
              "              title=\"Convert this dataframe to an interactive table.\"\n",
              "              style=\"display:none;\">\n",
              "        \n",
              "  <svg xmlns=\"http://www.w3.org/2000/svg\" height=\"24px\"viewBox=\"0 0 24 24\"\n",
              "       width=\"24px\">\n",
              "    <path d=\"M0 0h24v24H0V0z\" fill=\"none\"/>\n",
              "    <path d=\"M18.56 5.44l.94 2.06.94-2.06 2.06-.94-2.06-.94-.94-2.06-.94 2.06-2.06.94zm-11 1L8.5 8.5l.94-2.06 2.06-.94-2.06-.94L8.5 2.5l-.94 2.06-2.06.94zm10 10l.94 2.06.94-2.06 2.06-.94-2.06-.94-.94-2.06-.94 2.06-2.06.94z\"/><path d=\"M17.41 7.96l-1.37-1.37c-.4-.4-.92-.59-1.43-.59-.52 0-1.04.2-1.43.59L10.3 9.45l-7.72 7.72c-.78.78-.78 2.05 0 2.83L4 21.41c.39.39.9.59 1.41.59.51 0 1.02-.2 1.41-.59l7.78-7.78 2.81-2.81c.8-.78.8-2.07 0-2.86zM5.41 20L4 18.59l7.72-7.72 1.47 1.35L5.41 20z\"/>\n",
              "  </svg>\n",
              "      </button>\n",
              "      \n",
              "  <style>\n",
              "    .colab-df-container {\n",
              "      display:flex;\n",
              "      flex-wrap:wrap;\n",
              "      gap: 12px;\n",
              "    }\n",
              "\n",
              "    .colab-df-convert {\n",
              "      background-color: #E8F0FE;\n",
              "      border: none;\n",
              "      border-radius: 50%;\n",
              "      cursor: pointer;\n",
              "      display: none;\n",
              "      fill: #1967D2;\n",
              "      height: 32px;\n",
              "      padding: 0 0 0 0;\n",
              "      width: 32px;\n",
              "    }\n",
              "\n",
              "    .colab-df-convert:hover {\n",
              "      background-color: #E2EBFA;\n",
              "      box-shadow: 0px 1px 2px rgba(60, 64, 67, 0.3), 0px 1px 3px 1px rgba(60, 64, 67, 0.15);\n",
              "      fill: #174EA6;\n",
              "    }\n",
              "\n",
              "    [theme=dark] .colab-df-convert {\n",
              "      background-color: #3B4455;\n",
              "      fill: #D2E3FC;\n",
              "    }\n",
              "\n",
              "    [theme=dark] .colab-df-convert:hover {\n",
              "      background-color: #434B5C;\n",
              "      box-shadow: 0px 1px 3px 1px rgba(0, 0, 0, 0.15);\n",
              "      filter: drop-shadow(0px 1px 2px rgba(0, 0, 0, 0.3));\n",
              "      fill: #FFFFFF;\n",
              "    }\n",
              "  </style>\n",
              "\n",
              "      <script>\n",
              "        const buttonEl =\n",
              "          document.querySelector('#df-427c422f-f837-42f5-aaa3-e1f386d32de8 button.colab-df-convert');\n",
              "        buttonEl.style.display =\n",
              "          google.colab.kernel.accessAllowed ? 'block' : 'none';\n",
              "\n",
              "        async function convertToInteractive(key) {\n",
              "          const element = document.querySelector('#df-427c422f-f837-42f5-aaa3-e1f386d32de8');\n",
              "          const dataTable =\n",
              "            await google.colab.kernel.invokeFunction('convertToInteractive',\n",
              "                                                     [key], {});\n",
              "          if (!dataTable) return;\n",
              "\n",
              "          const docLinkHtml = 'Like what you see? Visit the ' +\n",
              "            '<a target=\"_blank\" href=https://colab.research.google.com/notebooks/data_table.ipynb>data table notebook</a>'\n",
              "            + ' to learn more about interactive tables.';\n",
              "          element.innerHTML = '';\n",
              "          dataTable['output_type'] = 'display_data';\n",
              "          await google.colab.output.renderOutput(dataTable, element);\n",
              "          const docLink = document.createElement('div');\n",
              "          docLink.innerHTML = docLinkHtml;\n",
              "          element.appendChild(docLink);\n",
              "        }\n",
              "      </script>\n",
              "    </div>\n",
              "  </div>\n",
              "  "
            ]
          },
          "metadata": {},
          "execution_count": 525
        }
      ]
    },
    {
      "cell_type": "markdown",
      "source": [
        "### Creating a new data frame "
      ],
      "metadata": {
        "id": "bVqflTp6aH5U"
      }
    },
    {
      "cell_type": "code",
      "source": [
        "final_df = pd.concat([india_df1, india_df2['new_cases']], axis=1, join='inner')"
      ],
      "metadata": {
        "id": "YipbVVoq2EYo"
      },
      "execution_count": null,
      "outputs": []
    },
    {
      "cell_type": "code",
      "source": [
        "final_df = final_df.iloc[:, 3:]"
      ],
      "metadata": {
        "id": "8bjwds1kRe7l"
      },
      "execution_count": null,
      "outputs": []
    },
    {
      "cell_type": "code",
      "source": [
        "final_df"
      ],
      "metadata": {
        "id": "AOHCMsoK2EdN",
        "colab": {
          "base_uri": "https://localhost:8080/",
          "height": 423
        },
        "outputId": "3cd77583-13d2-435f-d456-a096dfcd444a"
      },
      "execution_count": null,
      "outputs": [
        {
          "output_type": "execute_result",
          "data": {
            "text/plain": [
              "     retail_and_recreation  grocery_and_pharmacy  residential  \\\n",
              "0                    0.667                 1.667        0.000   \n",
              "1                    0.500                 1.750        0.000   \n",
              "2                    0.400                 1.800        0.200   \n",
              "3                    0.500                 2.000        0.000   \n",
              "4                   -0.143                 1.714        0.714   \n",
              "..                     ...                   ...          ...   \n",
              "466                -61.714               -25.000       24.143   \n",
              "467                -61.286               -24.429       23.714   \n",
              "468                -61.143               -24.714       23.714   \n",
              "469                -60.143               -23.429       23.286   \n",
              "470                -58.714               -21.143       22.714   \n",
              "\n",
              "     transit_stations   parks  workplaces  new_cases  \n",
              "0               2.000   3.000       3.000        0.0  \n",
              "1               2.000   3.250       3.000        0.0  \n",
              "2               1.800   2.800       3.200        0.0  \n",
              "3               2.333   3.167       3.333        0.0  \n",
              "4               1.429   3.571       0.143        0.0  \n",
              "..                ...     ...         ...        ...  \n",
              "466           -49.143 -41.000     -45.429   173790.0  \n",
              "467           -48.714 -40.000     -44.571   165553.0  \n",
              "468           -49.000 -39.143     -44.286   152734.0  \n",
              "469           -48.286 -38.000     -43.429   127510.0  \n",
              "470           -47.000 -36.571     -42.429   132788.0  \n",
              "\n",
              "[471 rows x 7 columns]"
            ],
            "text/html": [
              "\n",
              "  <div id=\"df-ceea89f6-fe06-4091-8220-45c9fc033907\">\n",
              "    <div class=\"colab-df-container\">\n",
              "      <div>\n",
              "<style scoped>\n",
              "    .dataframe tbody tr th:only-of-type {\n",
              "        vertical-align: middle;\n",
              "    }\n",
              "\n",
              "    .dataframe tbody tr th {\n",
              "        vertical-align: top;\n",
              "    }\n",
              "\n",
              "    .dataframe thead th {\n",
              "        text-align: right;\n",
              "    }\n",
              "</style>\n",
              "<table border=\"1\" class=\"dataframe\">\n",
              "  <thead>\n",
              "    <tr style=\"text-align: right;\">\n",
              "      <th></th>\n",
              "      <th>retail_and_recreation</th>\n",
              "      <th>grocery_and_pharmacy</th>\n",
              "      <th>residential</th>\n",
              "      <th>transit_stations</th>\n",
              "      <th>parks</th>\n",
              "      <th>workplaces</th>\n",
              "      <th>new_cases</th>\n",
              "    </tr>\n",
              "  </thead>\n",
              "  <tbody>\n",
              "    <tr>\n",
              "      <th>0</th>\n",
              "      <td>0.667</td>\n",
              "      <td>1.667</td>\n",
              "      <td>0.000</td>\n",
              "      <td>2.000</td>\n",
              "      <td>3.000</td>\n",
              "      <td>3.000</td>\n",
              "      <td>0.0</td>\n",
              "    </tr>\n",
              "    <tr>\n",
              "      <th>1</th>\n",
              "      <td>0.500</td>\n",
              "      <td>1.750</td>\n",
              "      <td>0.000</td>\n",
              "      <td>2.000</td>\n",
              "      <td>3.250</td>\n",
              "      <td>3.000</td>\n",
              "      <td>0.0</td>\n",
              "    </tr>\n",
              "    <tr>\n",
              "      <th>2</th>\n",
              "      <td>0.400</td>\n",
              "      <td>1.800</td>\n",
              "      <td>0.200</td>\n",
              "      <td>1.800</td>\n",
              "      <td>2.800</td>\n",
              "      <td>3.200</td>\n",
              "      <td>0.0</td>\n",
              "    </tr>\n",
              "    <tr>\n",
              "      <th>3</th>\n",
              "      <td>0.500</td>\n",
              "      <td>2.000</td>\n",
              "      <td>0.000</td>\n",
              "      <td>2.333</td>\n",
              "      <td>3.167</td>\n",
              "      <td>3.333</td>\n",
              "      <td>0.0</td>\n",
              "    </tr>\n",
              "    <tr>\n",
              "      <th>4</th>\n",
              "      <td>-0.143</td>\n",
              "      <td>1.714</td>\n",
              "      <td>0.714</td>\n",
              "      <td>1.429</td>\n",
              "      <td>3.571</td>\n",
              "      <td>0.143</td>\n",
              "      <td>0.0</td>\n",
              "    </tr>\n",
              "    <tr>\n",
              "      <th>...</th>\n",
              "      <td>...</td>\n",
              "      <td>...</td>\n",
              "      <td>...</td>\n",
              "      <td>...</td>\n",
              "      <td>...</td>\n",
              "      <td>...</td>\n",
              "      <td>...</td>\n",
              "    </tr>\n",
              "    <tr>\n",
              "      <th>466</th>\n",
              "      <td>-61.714</td>\n",
              "      <td>-25.000</td>\n",
              "      <td>24.143</td>\n",
              "      <td>-49.143</td>\n",
              "      <td>-41.000</td>\n",
              "      <td>-45.429</td>\n",
              "      <td>173790.0</td>\n",
              "    </tr>\n",
              "    <tr>\n",
              "      <th>467</th>\n",
              "      <td>-61.286</td>\n",
              "      <td>-24.429</td>\n",
              "      <td>23.714</td>\n",
              "      <td>-48.714</td>\n",
              "      <td>-40.000</td>\n",
              "      <td>-44.571</td>\n",
              "      <td>165553.0</td>\n",
              "    </tr>\n",
              "    <tr>\n",
              "      <th>468</th>\n",
              "      <td>-61.143</td>\n",
              "      <td>-24.714</td>\n",
              "      <td>23.714</td>\n",
              "      <td>-49.000</td>\n",
              "      <td>-39.143</td>\n",
              "      <td>-44.286</td>\n",
              "      <td>152734.0</td>\n",
              "    </tr>\n",
              "    <tr>\n",
              "      <th>469</th>\n",
              "      <td>-60.143</td>\n",
              "      <td>-23.429</td>\n",
              "      <td>23.286</td>\n",
              "      <td>-48.286</td>\n",
              "      <td>-38.000</td>\n",
              "      <td>-43.429</td>\n",
              "      <td>127510.0</td>\n",
              "    </tr>\n",
              "    <tr>\n",
              "      <th>470</th>\n",
              "      <td>-58.714</td>\n",
              "      <td>-21.143</td>\n",
              "      <td>22.714</td>\n",
              "      <td>-47.000</td>\n",
              "      <td>-36.571</td>\n",
              "      <td>-42.429</td>\n",
              "      <td>132788.0</td>\n",
              "    </tr>\n",
              "  </tbody>\n",
              "</table>\n",
              "<p>471 rows × 7 columns</p>\n",
              "</div>\n",
              "      <button class=\"colab-df-convert\" onclick=\"convertToInteractive('df-ceea89f6-fe06-4091-8220-45c9fc033907')\"\n",
              "              title=\"Convert this dataframe to an interactive table.\"\n",
              "              style=\"display:none;\">\n",
              "        \n",
              "  <svg xmlns=\"http://www.w3.org/2000/svg\" height=\"24px\"viewBox=\"0 0 24 24\"\n",
              "       width=\"24px\">\n",
              "    <path d=\"M0 0h24v24H0V0z\" fill=\"none\"/>\n",
              "    <path d=\"M18.56 5.44l.94 2.06.94-2.06 2.06-.94-2.06-.94-.94-2.06-.94 2.06-2.06.94zm-11 1L8.5 8.5l.94-2.06 2.06-.94-2.06-.94L8.5 2.5l-.94 2.06-2.06.94zm10 10l.94 2.06.94-2.06 2.06-.94-2.06-.94-.94-2.06-.94 2.06-2.06.94z\"/><path d=\"M17.41 7.96l-1.37-1.37c-.4-.4-.92-.59-1.43-.59-.52 0-1.04.2-1.43.59L10.3 9.45l-7.72 7.72c-.78.78-.78 2.05 0 2.83L4 21.41c.39.39.9.59 1.41.59.51 0 1.02-.2 1.41-.59l7.78-7.78 2.81-2.81c.8-.78.8-2.07 0-2.86zM5.41 20L4 18.59l7.72-7.72 1.47 1.35L5.41 20z\"/>\n",
              "  </svg>\n",
              "      </button>\n",
              "      \n",
              "  <style>\n",
              "    .colab-df-container {\n",
              "      display:flex;\n",
              "      flex-wrap:wrap;\n",
              "      gap: 12px;\n",
              "    }\n",
              "\n",
              "    .colab-df-convert {\n",
              "      background-color: #E8F0FE;\n",
              "      border: none;\n",
              "      border-radius: 50%;\n",
              "      cursor: pointer;\n",
              "      display: none;\n",
              "      fill: #1967D2;\n",
              "      height: 32px;\n",
              "      padding: 0 0 0 0;\n",
              "      width: 32px;\n",
              "    }\n",
              "\n",
              "    .colab-df-convert:hover {\n",
              "      background-color: #E2EBFA;\n",
              "      box-shadow: 0px 1px 2px rgba(60, 64, 67, 0.3), 0px 1px 3px 1px rgba(60, 64, 67, 0.15);\n",
              "      fill: #174EA6;\n",
              "    }\n",
              "\n",
              "    [theme=dark] .colab-df-convert {\n",
              "      background-color: #3B4455;\n",
              "      fill: #D2E3FC;\n",
              "    }\n",
              "\n",
              "    [theme=dark] .colab-df-convert:hover {\n",
              "      background-color: #434B5C;\n",
              "      box-shadow: 0px 1px 3px 1px rgba(0, 0, 0, 0.15);\n",
              "      filter: drop-shadow(0px 1px 2px rgba(0, 0, 0, 0.3));\n",
              "      fill: #FFFFFF;\n",
              "    }\n",
              "  </style>\n",
              "\n",
              "      <script>\n",
              "        const buttonEl =\n",
              "          document.querySelector('#df-ceea89f6-fe06-4091-8220-45c9fc033907 button.colab-df-convert');\n",
              "        buttonEl.style.display =\n",
              "          google.colab.kernel.accessAllowed ? 'block' : 'none';\n",
              "\n",
              "        async function convertToInteractive(key) {\n",
              "          const element = document.querySelector('#df-ceea89f6-fe06-4091-8220-45c9fc033907');\n",
              "          const dataTable =\n",
              "            await google.colab.kernel.invokeFunction('convertToInteractive',\n",
              "                                                     [key], {});\n",
              "          if (!dataTable) return;\n",
              "\n",
              "          const docLinkHtml = 'Like what you see? Visit the ' +\n",
              "            '<a target=\"_blank\" href=https://colab.research.google.com/notebooks/data_table.ipynb>data table notebook</a>'\n",
              "            + ' to learn more about interactive tables.';\n",
              "          element.innerHTML = '';\n",
              "          dataTable['output_type'] = 'display_data';\n",
              "          await google.colab.output.renderOutput(dataTable, element);\n",
              "          const docLink = document.createElement('div');\n",
              "          docLink.innerHTML = docLinkHtml;\n",
              "          element.appendChild(docLink);\n",
              "        }\n",
              "      </script>\n",
              "    </div>\n",
              "  </div>\n",
              "  "
            ]
          },
          "metadata": {},
          "execution_count": 528
        }
      ]
    },
    {
      "cell_type": "code",
      "source": [
        "\n",
        "y = final_df['new_cases']\n",
        "y\n",
        "\n",
        "\n",
        "X = final_df.iloc[:,:-1]\n",
        "X"
      ],
      "metadata": {
        "colab": {
          "base_uri": "https://localhost:8080/",
          "height": 423
        },
        "id": "6HQfwt-_smB4",
        "outputId": "be2532fa-2d7c-495d-8557-266192b576d0"
      },
      "execution_count": null,
      "outputs": [
        {
          "output_type": "execute_result",
          "data": {
            "text/plain": [
              "     retail_and_recreation  grocery_and_pharmacy  residential  \\\n",
              "0                    0.667                 1.667        0.000   \n",
              "1                    0.500                 1.750        0.000   \n",
              "2                    0.400                 1.800        0.200   \n",
              "3                    0.500                 2.000        0.000   \n",
              "4                   -0.143                 1.714        0.714   \n",
              "..                     ...                   ...          ...   \n",
              "466                -61.714               -25.000       24.143   \n",
              "467                -61.286               -24.429       23.714   \n",
              "468                -61.143               -24.714       23.714   \n",
              "469                -60.143               -23.429       23.286   \n",
              "470                -58.714               -21.143       22.714   \n",
              "\n",
              "     transit_stations   parks  workplaces  \n",
              "0               2.000   3.000       3.000  \n",
              "1               2.000   3.250       3.000  \n",
              "2               1.800   2.800       3.200  \n",
              "3               2.333   3.167       3.333  \n",
              "4               1.429   3.571       0.143  \n",
              "..                ...     ...         ...  \n",
              "466           -49.143 -41.000     -45.429  \n",
              "467           -48.714 -40.000     -44.571  \n",
              "468           -49.000 -39.143     -44.286  \n",
              "469           -48.286 -38.000     -43.429  \n",
              "470           -47.000 -36.571     -42.429  \n",
              "\n",
              "[471 rows x 6 columns]"
            ],
            "text/html": [
              "\n",
              "  <div id=\"df-5c1f42fd-557f-4223-b700-9512e877d9e0\">\n",
              "    <div class=\"colab-df-container\">\n",
              "      <div>\n",
              "<style scoped>\n",
              "    .dataframe tbody tr th:only-of-type {\n",
              "        vertical-align: middle;\n",
              "    }\n",
              "\n",
              "    .dataframe tbody tr th {\n",
              "        vertical-align: top;\n",
              "    }\n",
              "\n",
              "    .dataframe thead th {\n",
              "        text-align: right;\n",
              "    }\n",
              "</style>\n",
              "<table border=\"1\" class=\"dataframe\">\n",
              "  <thead>\n",
              "    <tr style=\"text-align: right;\">\n",
              "      <th></th>\n",
              "      <th>retail_and_recreation</th>\n",
              "      <th>grocery_and_pharmacy</th>\n",
              "      <th>residential</th>\n",
              "      <th>transit_stations</th>\n",
              "      <th>parks</th>\n",
              "      <th>workplaces</th>\n",
              "    </tr>\n",
              "  </thead>\n",
              "  <tbody>\n",
              "    <tr>\n",
              "      <th>0</th>\n",
              "      <td>0.667</td>\n",
              "      <td>1.667</td>\n",
              "      <td>0.000</td>\n",
              "      <td>2.000</td>\n",
              "      <td>3.000</td>\n",
              "      <td>3.000</td>\n",
              "    </tr>\n",
              "    <tr>\n",
              "      <th>1</th>\n",
              "      <td>0.500</td>\n",
              "      <td>1.750</td>\n",
              "      <td>0.000</td>\n",
              "      <td>2.000</td>\n",
              "      <td>3.250</td>\n",
              "      <td>3.000</td>\n",
              "    </tr>\n",
              "    <tr>\n",
              "      <th>2</th>\n",
              "      <td>0.400</td>\n",
              "      <td>1.800</td>\n",
              "      <td>0.200</td>\n",
              "      <td>1.800</td>\n",
              "      <td>2.800</td>\n",
              "      <td>3.200</td>\n",
              "    </tr>\n",
              "    <tr>\n",
              "      <th>3</th>\n",
              "      <td>0.500</td>\n",
              "      <td>2.000</td>\n",
              "      <td>0.000</td>\n",
              "      <td>2.333</td>\n",
              "      <td>3.167</td>\n",
              "      <td>3.333</td>\n",
              "    </tr>\n",
              "    <tr>\n",
              "      <th>4</th>\n",
              "      <td>-0.143</td>\n",
              "      <td>1.714</td>\n",
              "      <td>0.714</td>\n",
              "      <td>1.429</td>\n",
              "      <td>3.571</td>\n",
              "      <td>0.143</td>\n",
              "    </tr>\n",
              "    <tr>\n",
              "      <th>...</th>\n",
              "      <td>...</td>\n",
              "      <td>...</td>\n",
              "      <td>...</td>\n",
              "      <td>...</td>\n",
              "      <td>...</td>\n",
              "      <td>...</td>\n",
              "    </tr>\n",
              "    <tr>\n",
              "      <th>466</th>\n",
              "      <td>-61.714</td>\n",
              "      <td>-25.000</td>\n",
              "      <td>24.143</td>\n",
              "      <td>-49.143</td>\n",
              "      <td>-41.000</td>\n",
              "      <td>-45.429</td>\n",
              "    </tr>\n",
              "    <tr>\n",
              "      <th>467</th>\n",
              "      <td>-61.286</td>\n",
              "      <td>-24.429</td>\n",
              "      <td>23.714</td>\n",
              "      <td>-48.714</td>\n",
              "      <td>-40.000</td>\n",
              "      <td>-44.571</td>\n",
              "    </tr>\n",
              "    <tr>\n",
              "      <th>468</th>\n",
              "      <td>-61.143</td>\n",
              "      <td>-24.714</td>\n",
              "      <td>23.714</td>\n",
              "      <td>-49.000</td>\n",
              "      <td>-39.143</td>\n",
              "      <td>-44.286</td>\n",
              "    </tr>\n",
              "    <tr>\n",
              "      <th>469</th>\n",
              "      <td>-60.143</td>\n",
              "      <td>-23.429</td>\n",
              "      <td>23.286</td>\n",
              "      <td>-48.286</td>\n",
              "      <td>-38.000</td>\n",
              "      <td>-43.429</td>\n",
              "    </tr>\n",
              "    <tr>\n",
              "      <th>470</th>\n",
              "      <td>-58.714</td>\n",
              "      <td>-21.143</td>\n",
              "      <td>22.714</td>\n",
              "      <td>-47.000</td>\n",
              "      <td>-36.571</td>\n",
              "      <td>-42.429</td>\n",
              "    </tr>\n",
              "  </tbody>\n",
              "</table>\n",
              "<p>471 rows × 6 columns</p>\n",
              "</div>\n",
              "      <button class=\"colab-df-convert\" onclick=\"convertToInteractive('df-5c1f42fd-557f-4223-b700-9512e877d9e0')\"\n",
              "              title=\"Convert this dataframe to an interactive table.\"\n",
              "              style=\"display:none;\">\n",
              "        \n",
              "  <svg xmlns=\"http://www.w3.org/2000/svg\" height=\"24px\"viewBox=\"0 0 24 24\"\n",
              "       width=\"24px\">\n",
              "    <path d=\"M0 0h24v24H0V0z\" fill=\"none\"/>\n",
              "    <path d=\"M18.56 5.44l.94 2.06.94-2.06 2.06-.94-2.06-.94-.94-2.06-.94 2.06-2.06.94zm-11 1L8.5 8.5l.94-2.06 2.06-.94-2.06-.94L8.5 2.5l-.94 2.06-2.06.94zm10 10l.94 2.06.94-2.06 2.06-.94-2.06-.94-.94-2.06-.94 2.06-2.06.94z\"/><path d=\"M17.41 7.96l-1.37-1.37c-.4-.4-.92-.59-1.43-.59-.52 0-1.04.2-1.43.59L10.3 9.45l-7.72 7.72c-.78.78-.78 2.05 0 2.83L4 21.41c.39.39.9.59 1.41.59.51 0 1.02-.2 1.41-.59l7.78-7.78 2.81-2.81c.8-.78.8-2.07 0-2.86zM5.41 20L4 18.59l7.72-7.72 1.47 1.35L5.41 20z\"/>\n",
              "  </svg>\n",
              "      </button>\n",
              "      \n",
              "  <style>\n",
              "    .colab-df-container {\n",
              "      display:flex;\n",
              "      flex-wrap:wrap;\n",
              "      gap: 12px;\n",
              "    }\n",
              "\n",
              "    .colab-df-convert {\n",
              "      background-color: #E8F0FE;\n",
              "      border: none;\n",
              "      border-radius: 50%;\n",
              "      cursor: pointer;\n",
              "      display: none;\n",
              "      fill: #1967D2;\n",
              "      height: 32px;\n",
              "      padding: 0 0 0 0;\n",
              "      width: 32px;\n",
              "    }\n",
              "\n",
              "    .colab-df-convert:hover {\n",
              "      background-color: #E2EBFA;\n",
              "      box-shadow: 0px 1px 2px rgba(60, 64, 67, 0.3), 0px 1px 3px 1px rgba(60, 64, 67, 0.15);\n",
              "      fill: #174EA6;\n",
              "    }\n",
              "\n",
              "    [theme=dark] .colab-df-convert {\n",
              "      background-color: #3B4455;\n",
              "      fill: #D2E3FC;\n",
              "    }\n",
              "\n",
              "    [theme=dark] .colab-df-convert:hover {\n",
              "      background-color: #434B5C;\n",
              "      box-shadow: 0px 1px 3px 1px rgba(0, 0, 0, 0.15);\n",
              "      filter: drop-shadow(0px 1px 2px rgba(0, 0, 0, 0.3));\n",
              "      fill: #FFFFFF;\n",
              "    }\n",
              "  </style>\n",
              "\n",
              "      <script>\n",
              "        const buttonEl =\n",
              "          document.querySelector('#df-5c1f42fd-557f-4223-b700-9512e877d9e0 button.colab-df-convert');\n",
              "        buttonEl.style.display =\n",
              "          google.colab.kernel.accessAllowed ? 'block' : 'none';\n",
              "\n",
              "        async function convertToInteractive(key) {\n",
              "          const element = document.querySelector('#df-5c1f42fd-557f-4223-b700-9512e877d9e0');\n",
              "          const dataTable =\n",
              "            await google.colab.kernel.invokeFunction('convertToInteractive',\n",
              "                                                     [key], {});\n",
              "          if (!dataTable) return;\n",
              "\n",
              "          const docLinkHtml = 'Like what you see? Visit the ' +\n",
              "            '<a target=\"_blank\" href=https://colab.research.google.com/notebooks/data_table.ipynb>data table notebook</a>'\n",
              "            + ' to learn more about interactive tables.';\n",
              "          element.innerHTML = '';\n",
              "          dataTable['output_type'] = 'display_data';\n",
              "          await google.colab.output.renderOutput(dataTable, element);\n",
              "          const docLink = document.createElement('div');\n",
              "          docLink.innerHTML = docLinkHtml;\n",
              "          element.appendChild(docLink);\n",
              "        }\n",
              "      </script>\n",
              "    </div>\n",
              "  </div>\n",
              "  "
            ]
          },
          "metadata": {},
          "execution_count": 529
        }
      ]
    },
    {
      "cell_type": "code",
      "source": [
        "from random import seed\n",
        "def train_test_split(X,y,test_size=0.2):\n",
        "\n",
        "    seed(5)\n",
        "    ind = np.random.permutation(X.index)\n",
        "    X=X.reindex(ind)\n",
        "    y=y.reindex(ind)\n",
        "\n",
        "    l=X.shape[0]\n",
        "    train_X,train_y,test_X,test_Y=[],[],[],[]\n",
        "\n",
        "    criterion=int((1-test_size)*l)\n",
        "    train_X=X.iloc[:criterion]\n",
        "    train_y=y.iloc[:criterion]\n",
        "    test_X=X.iloc[criterion:]\n",
        "    test_y=y.iloc[criterion:]\n",
        "    \n",
        "    return train_X,test_X,train_y,test_y"
      ],
      "metadata": {
        "id": "64t01nkkOmf-"
      },
      "execution_count": null,
      "outputs": []
    },
    {
      "cell_type": "code",
      "source": [
        "X_train, X_test, y_train, y_test = train_test_split(X, y, test_size=0.2)"
      ],
      "metadata": {
        "id": "_m9jhWCvrzJ9"
      },
      "execution_count": null,
      "outputs": []
    },
    {
      "cell_type": "markdown",
      "source": [
        "R2 SCORE "
      ],
      "metadata": {
        "id": "AzhRiIgHUGnd"
      }
    },
    {
      "cell_type": "code",
      "source": [
        "def r2_Score(Y_true, Y_pred):\n",
        "    Y_true = Y_true.values.tolist()\n",
        "    Y_pred = Y_pred.values.tolist()\n",
        "    Y_mean=np.mean(Y_true)\n",
        "\n",
        "    RSS=0\n",
        "    TSS=0\n",
        "\n",
        "    for i in range(len(Y_true)):\n",
        "        RSS=RSS+np.square(Y_true[i]-Y_pred[i])\n",
        "        TSS=TSS+np.square(Y_true[i]-Y_mean)\n",
        "        \n",
        "    return(1-(RSS/TSS))"
      ],
      "metadata": {
        "id": "KqdybFZHUIWZ"
      },
      "execution_count": null,
      "outputs": []
    },
    {
      "cell_type": "markdown",
      "source": [
        "### ID3A"
      ],
      "metadata": {
        "id": "htQa0-MAx2ir"
      }
    },
    {
      "cell_type": "code",
      "source": [
        "\n",
        "class DecisionTreeRegressor:\n",
        "  \n",
        "  def fit(self, X, y, min_leaf = 5):\n",
        "    self.dtree = Node(X, y, np.array(np.arange(len(y))), min_leaf)\n",
        "    return self\n",
        "  \n",
        "  def predict(self, X):\n",
        "    return self.dtree.predict(X.values)"
      ],
      "metadata": {
        "id": "v6RrA5Bh2Eh3"
      },
      "execution_count": null,
      "outputs": []
    },
    {
      "cell_type": "code",
      "source": [
        "class Node:\n",
        "\n",
        "    def __init__(self, x, y, idxs, min_leaf=5):\n",
        "        self.x = x \n",
        "        self.y = y\n",
        "        self.idxs = idxs \n",
        "        self.min_leaf = min_leaf\n",
        "        self.row_count = len(idxs)\n",
        "        self.col_count = x.shape[1]\n",
        "        self.val = np.mean(y[idxs])\n",
        "        self.score = float('inf')\n",
        "        self.find_varsplit()\n",
        "        \n",
        "    def find_varsplit(self):\n",
        "        for c in range(self.col_count): self.find_better_split(c)\n",
        "        if self.is_leaf: return\n",
        "        x = self.split_col\n",
        "        lhs = np.nonzero(x <= self.split)[0]\n",
        "        rhs = np.nonzero(x > self.split)[0]\n",
        "        self.lhs = Node(self.x, self.y, self.idxs[lhs], self.min_leaf)\n",
        "        self.rhs = Node(self.x, self.y, self.idxs[rhs], self.min_leaf)\n",
        "        \n",
        "    def find_better_split(self, var_idx):\n",
        "      \n",
        "        x = self.x.values[self.idxs, var_idx]\n",
        "\n",
        "        for r in range(self.row_count):\n",
        "            lhs = x <= x[r]\n",
        "            rhs = x > x[r]\n",
        "            if rhs.sum() < self.min_leaf or lhs.sum() < self.min_leaf: continue\n",
        "\n",
        "            curr_score = self.find_score(lhs, rhs)\n",
        "            if curr_score < self.score: \n",
        "                self.var_idx = var_idx\n",
        "                self.score = curr_score\n",
        "                self.split = x[r]\n",
        "                \n",
        "    def find_score(self, lhs, rhs):\n",
        "        y = self.y[self.idxs]\n",
        "        lhs_std = y[lhs].std()\n",
        "        rhs_std = y[rhs].std()\n",
        "        return lhs_std * lhs.sum() + rhs_std * rhs.sum()\n",
        "                \n",
        "    @property\n",
        "    def split_col(self): return self.x.values[self.idxs,self.var_idx]\n",
        "                \n",
        "    @property\n",
        "    def is_leaf(self): return self.score == float('inf')                \n",
        "\n",
        "    def predict(self, x):\n",
        "        return np.array([self.predict_row(xi) for xi in x])\n",
        "\n",
        "    def predict_row(self, xi):\n",
        "        if self.is_leaf: return self.val\n",
        "        node = self.lhs if xi[self.var_idx] <= self.split else self.rhs\n",
        "        return node.predict_row(xi)"
      ],
      "metadata": {
        "id": "orHLD_xXq5Je"
      },
      "execution_count": null,
      "outputs": []
    },
    {
      "cell_type": "code",
      "source": [
        "\n",
        "regressor = DecisionTreeRegressor().fit(X, y)\n",
        "preds = regressor.predict(X)\n",
        "# preds"
      ],
      "metadata": {
        "id": "HHgW6cwqrqVu"
      },
      "execution_count": null,
      "outputs": []
    },
    {
      "cell_type": "code",
      "source": [
        "# X_test\n",
        "# y_test"
      ],
      "metadata": {
        "id": "r1QdjhMNPJjn"
      },
      "execution_count": null,
      "outputs": []
    },
    {
      "cell_type": "code",
      "source": [
        "pred_test = regressor.predict(X_test)"
      ],
      "metadata": {
        "id": "ouxo-m0CvYmz"
      },
      "execution_count": null,
      "outputs": []
    },
    {
      "cell_type": "code",
      "source": [
        "# pred_test"
      ],
      "metadata": {
        "id": "dKllHkWivufO"
      },
      "execution_count": null,
      "outputs": []
    },
    {
      "cell_type": "code",
      "source": [
        "import seaborn as sns\n",
        "plt.figure(figsize=(8, 8))\n",
        "\n",
        "\n",
        "ax = sns.distplot(y_test, hist=False, color=\"r\", label=\"Actual Value\")\n",
        "sns.distplot(pred_test, hist=False, color=\"b\", label=\"Fitted Values\" , ax=ax)\n",
        "\n",
        "\n",
        "plt.title('Actual vs Fitted Values for Price')\n",
        "\n",
        "\n",
        "plt.show()\n",
        "plt.close()\n"
      ],
      "metadata": {
        "colab": {
          "base_uri": "https://localhost:8080/",
          "height": 602
        },
        "id": "_qaHr0sB7Qrk",
        "outputId": "1638e3ad-ebfe-407c-b7eb-2dfd0ba1eb55"
      },
      "execution_count": null,
      "outputs": [
        {
          "output_type": "stream",
          "name": "stderr",
          "text": [
            "/usr/local/lib/python3.7/dist-packages/seaborn/distributions.py:2619: FutureWarning: `distplot` is a deprecated function and will be removed in a future version. Please adapt your code to use either `displot` (a figure-level function with similar flexibility) or `kdeplot` (an axes-level function for kernel density plots).\n",
            "  warnings.warn(msg, FutureWarning)\n",
            "/usr/local/lib/python3.7/dist-packages/seaborn/distributions.py:2619: FutureWarning: `distplot` is a deprecated function and will be removed in a future version. Please adapt your code to use either `displot` (a figure-level function with similar flexibility) or `kdeplot` (an axes-level function for kernel density plots).\n",
            "  warnings.warn(msg, FutureWarning)\n"
          ]
        },
        {
          "output_type": "display_data",
          "data": {
            "text/plain": [
              "<Figure size 576x576 with 1 Axes>"
            ],
            "image/png": "[encoded data removed]"
          },
          "metadata": {
            "needs_background": "light"
          }
        }
      ]
    },
    {
      "cell_type": "code",
      "source": [
        "from sklearn.metrics import mean_squared_error,r2_score\n",
        "\n",
        "rms = mean_squared_error(y_test, pred_test, squared=False)\n",
        "rms"
      ],
      "metadata": {
        "colab": {
          "base_uri": "https://localhost:8080/"
        },
        "id": "2Nl8vUKsvrVh",
        "outputId": "163e803f-dc74-4eef-ea4a-ecfd0ef40713"
      },
      "execution_count": null,
      "outputs": [
        {
          "output_type": "execute_result",
          "data": {
            "text/plain": [
              "15215.940898382962"
            ]
          },
          "metadata": {},
          "execution_count": 540
        }
      ]
    },
    {
      "cell_type": "code",
      "source": [
        "r2 = r2_score(y_test, pred_test)\n",
        "r2"
      ],
      "metadata": {
        "colab": {
          "base_uri": "https://localhost:8080/"
        },
        "id": "Ntz0UxbFweMH",
        "outputId": "31bc41e0-359e-403d-ac6e-6c0d28ff07e0"
      },
      "execution_count": null,
      "outputs": [
        {
          "output_type": "execute_result",
          "data": {
            "text/plain": [
              "0.9787580583042875"
            ]
          },
          "metadata": {},
          "execution_count": 541
        }
      ]
    },
    {
      "cell_type": "markdown",
      "source": [
        "COUNT vs TARGET VARIABLE "
      ],
      "metadata": {
        "id": "8Q-8VQ6eScTf"
      }
    },
    {
      "cell_type": "code",
      "source": [
        "import matplotlib.pyplot as plt\n",
        "plt.scatter(final_df.index,final_df['new_cases'])\n",
        "plt.show()"
      ],
      "metadata": {
        "colab": {
          "base_uri": "https://localhost:8080/",
          "height": 265
        },
        "id": "0TTy3eDW0xh3",
        "outputId": "8ba88874-e0e6-40ef-cc46-0b4eb936afa8"
      },
      "execution_count": null,
      "outputs": [
        {
          "output_type": "display_data",
          "data": {
            "text/plain": [
              "<Figure size 432x288 with 1 Axes>"
            ],
            "image/png": "[encoded data removed]"
          },
          "metadata": {
            "needs_background": "light"
          }
        }
      ]
    },
    {
      "cell_type": "markdown",
      "source": [
        "### CART"
      ],
      "metadata": {
        "id": "O0cGnQk6DnTH"
      }
    },
    {
      "cell_type": "code",
      "source": [
        "class Node2:\n",
        "\n",
        "  def __init__(self,predicted_val,num_samples):\n",
        "          self.num_samples = num_samples\n",
        "          self.predicted_val = predicted_val\n",
        "          self.feature_index = 0\n",
        "          self.threshold = 0\n",
        "          self.left = None\n",
        "          self.right = None\n",
        "\n",
        "  # def is_leaf(self):\n",
        "  #         return ~(self.left or self.right)\n",
        "def standard_deviation(target):\n",
        "        avg=np.average(target)\n",
        "        sd=0;\n",
        "        n=len(target)\n",
        "        for i in target:\n",
        "          sd=sd+np.square((i-avg))\n",
        "        sd=np.sqrt(sd/n)\n",
        "        return sd\n",
        "\n",
        "\n",
        "\n",
        "class CART2:\n",
        "    \n",
        "\n",
        "    def __init__(self,max_depth = None):\n",
        "        self.max_depth = max_depth\n",
        "        \n",
        "\n",
        "    def fit(self, x, y):\n",
        "\n",
        "        self.n_features_=x.shape[1]\n",
        "        self.tree=self.grow_tree(x,y)\n",
        "\n",
        "    def grow_tree(self,X,y,depth=0):\n",
        "\n",
        "        predicted_val=np.mean(y)\n",
        "        node = Node2(num_samples=y.size,\n",
        "                    predicted_val=predicted_val)\n",
        "\n",
        "        if depth < self.max_depth:\n",
        "           \n",
        "            idx, thr = self._best_split(X, y)\n",
        "            \n",
        "            if idx is not None:\n",
        "                indices_left = X.iloc[:, idx] < thr\n",
        "                X_left, y_left = X[indices_left], y[indices_left]\n",
        "                X_right, y_right = X[~indices_left], y[~indices_left]\n",
        "                node.feature_index = int(idx)\n",
        "                node.threshold = float(thr)\n",
        "                node.left = self.grow_tree(X_left, y_left, depth + 1)\n",
        "                node.right = self.grow_tree(X_right, y_right, depth + 1)\n",
        "\n",
        "        return node\n",
        "\n",
        "    def predict(self, X,pred=[]):\n",
        "        \n",
        "        for inputs in X:\n",
        "                self._predict(inputs,pred=pred) \n",
        "        return pred\n",
        "\n",
        "   \n",
        "\n",
        "    def _predict(self, inputs,pred):\n",
        "\n",
        "        node = self.tree\n",
        "      \n",
        "        while node.left:\n",
        "            \n",
        "            if inputs[node.feature_index] < node.threshold:\n",
        "                node = node.left\n",
        "            else:\n",
        "                node = node.right\n",
        "        pred.append(node.predicted_val)\n",
        "        \n",
        "\n",
        "    def _best_split(self, X, y):\n",
        "        \n",
        "        m = y.size\n",
        "        \n",
        "        if m <= 1:\n",
        "            return None, None\n",
        "\n",
        "        sd_parent =standard_deviation(y)\n",
        "        \n",
        "        best_sd = sd_parent\n",
        "        best_idx, best_thr = None, None\n",
        "\n",
        "        for idx in range(self.n_features_):\n",
        "            thresholds, Val = zip(*sorted(zip(X.iloc[:, idx], y)))\n",
        "\n",
        "\n",
        "\n",
        "            sd_left=[0]\n",
        "            sd_right=Val\n",
        "            sd_right=sd_right[1:]\n",
        "\n",
        "            \n",
        "\n",
        "            for i in range(1,m):\n",
        "\n",
        "                split=(thresholds[i]+thresholds[i-1])/2\n",
        "\n",
        "                sd_l= standard_deviation(sd_left)\n",
        "                sd_r=standard_deviation(sd_right)\n",
        "              \n",
        "                sd_left.append(sd_right[0])\n",
        "                sd_right=sd_right[1:]\n",
        "\n",
        "                child_sd=(i*sd_l +(m-i)*sd_r)/m\n",
        "              \n",
        "                if thresholds[i] == thresholds[i - 1]:\n",
        "                    continue\n",
        "\n",
        "                if child_sd < best_sd:\n",
        "                   \n",
        "                    best_sd=child_sd\n",
        "                    best_idx=idx\n",
        "                    best_thr=split\n",
        "       \n",
        "        return best_idx, best_thr "
      ],
      "metadata": {
        "id": "P6CCFn1IDmlN"
      },
      "execution_count": null,
      "outputs": []
    },
    {
      "cell_type": "code",
      "source": [
        "\n",
        "model=CART2(50)\n",
        "\n",
        "\n",
        "test =[]\n",
        "  \n",
        "for index, rows in X_test.iterrows():\n",
        "    my_list =[rows.retail_and_recreation, rows.grocery_and_pharmacy, rows.residential, rows.transit_stations, rows.parks, rows.workplaces]\n",
        "      \n",
        "    test.append(my_list)\n",
        "\n",
        "model.fit(X_train,y_train)\n",
        "\n",
        "Predictions=model.predict(test)"
      ],
      "metadata": {
        "id": "cy8dN8YGEDuf"
      },
      "execution_count": null,
      "outputs": []
    },
    {
      "cell_type": "code",
      "source": [
        "# Predictions"
      ],
      "metadata": {
        "id": "gHzHerkyM1kG"
      },
      "execution_count": null,
      "outputs": []
    },
    {
      "cell_type": "markdown",
      "source": [
        "ACCURACY AND PERFORMANCE"
      ],
      "metadata": {
        "id": "9Ui2J0AB6Mxm"
      }
    },
    {
      "cell_type": "code",
      "source": [
        "import seaborn as sns\n",
        "plt.figure(figsize=(8, 8))\n",
        "\n",
        "\n",
        "ax = sns.distplot(y_test, hist=False, color=\"r\", label=\"Actual Value\")\n",
        "sns.distplot(Predictions, hist=False, color=\"b\", label=\"Fitted Values\" , ax=ax)\n",
        "\n",
        "\n",
        "plt.title('Actual vs Fitted Values')\n",
        "\n",
        "\n",
        "plt.show()\n",
        "plt.close()"
      ],
      "metadata": {
        "colab": {
          "base_uri": "https://localhost:8080/",
          "height": 602
        },
        "id": "RLFDf36p7b_L",
        "outputId": "dd8a23bf-5871-479e-d6b2-438c4d28eb4f"
      },
      "execution_count": null,
      "outputs": [
        {
          "output_type": "stream",
          "name": "stderr",
          "text": [
            "/usr/local/lib/python3.7/dist-packages/seaborn/distributions.py:2619: FutureWarning: `distplot` is a deprecated function and will be removed in a future version. Please adapt your code to use either `displot` (a figure-level function with similar flexibility) or `kdeplot` (an axes-level function for kernel density plots).\n",
            "  warnings.warn(msg, FutureWarning)\n",
            "/usr/local/lib/python3.7/dist-packages/seaborn/distributions.py:2619: FutureWarning: `distplot` is a deprecated function and will be removed in a future version. Please adapt your code to use either `displot` (a figure-level function with similar flexibility) or `kdeplot` (an axes-level function for kernel density plots).\n",
            "  warnings.warn(msg, FutureWarning)\n"
          ]
        },
        {
          "output_type": "display_data",
          "data": {
            "text/plain": [
              "<Figure size 576x576 with 1 Axes>"
            ],
            "image/png": "[encoded data removed]"
          },
          "metadata": {
            "needs_background": "light"
          }
        }
      ]
    },
    {
      "cell_type": "code",
      "source": [
        "RMSE = np.sqrt(np.sum(((y_test-Predictions)**2)/len(y_test)))\n",
        "RMSE"
      ],
      "metadata": {
        "colab": {
          "base_uri": "https://localhost:8080/"
        },
        "id": "_q07GFQXM8WG",
        "outputId": "b5ed9e6a-1979-4e94-ce66-8345930ae36d"
      },
      "execution_count": null,
      "outputs": [
        {
          "output_type": "execute_result",
          "data": {
            "text/plain": [
              "25603.981582423992"
            ]
          },
          "metadata": {},
          "execution_count": 547
        }
      ]
    },
    {
      "cell_type": "markdown",
      "source": [
        "FEATURE CORRELATION WITH TARGET VARIABLE"
      ],
      "metadata": {
        "id": "whD0d13dTqB-"
      }
    },
    {
      "cell_type": "code",
      "source": [
        "final_df.corr()"
      ],
      "metadata": {
        "colab": {
          "base_uri": "https://localhost:8080/",
          "height": 269
        },
        "id": "9QvIVe10Tu-e",
        "outputId": "77970f8a-3f45-473a-fc37-313ccc0c7f27"
      },
      "execution_count": null,
      "outputs": [
        {
          "output_type": "execute_result",
          "data": {
            "text/plain": [
              "                       retail_and_recreation  grocery_and_pharmacy  \\\n",
              "retail_and_recreation               1.000000              0.820786   \n",
              "grocery_and_pharmacy                0.820786              1.000000   \n",
              "residential                        -0.925891             -0.840430   \n",
              "transit_stations                    0.970580              0.913562   \n",
              "parks                               0.906370              0.664009   \n",
              "workplaces                          0.928552              0.867805   \n",
              "new_cases                          -0.134351             -0.052792   \n",
              "\n",
              "                       residential  transit_stations     parks  workplaces  \\\n",
              "retail_and_recreation    -0.925891          0.970580  0.906370    0.928552   \n",
              "grocery_and_pharmacy     -0.840430          0.913562  0.664009    0.867805   \n",
              "residential               1.000000         -0.928817 -0.768427   -0.969960   \n",
              "transit_stations         -0.928817          1.000000  0.880851    0.951951   \n",
              "parks                    -0.768427          0.880851  1.000000    0.794867   \n",
              "workplaces               -0.969960          0.951951  0.794867    1.000000   \n",
              "new_cases                 0.313037         -0.153770 -0.119766   -0.232405   \n",
              "\n",
              "                       new_cases  \n",
              "retail_and_recreation  -0.134351  \n",
              "grocery_and_pharmacy   -0.052792  \n",
              "residential             0.313037  \n",
              "transit_stations       -0.153770  \n",
              "parks                  -0.119766  \n",
              "workplaces             -0.232405  \n",
              "new_cases               1.000000  "
            ],
            "text/html": [
              "\n",
              "  <div id=\"df-05209980-74fe-4f57-b9c0-bf58be47af30\">\n",
              "    <div class=\"colab-df-container\">\n",
              "      <div>\n",
              "<style scoped>\n",
              "    .dataframe tbody tr th:only-of-type {\n",
              "        vertical-align: middle;\n",
              "    }\n",
              "\n",
              "    .dataframe tbody tr th {\n",
              "        vertical-align: top;\n",
              "    }\n",
              "\n",
              "    .dataframe thead th {\n",
              "        text-align: right;\n",
              "    }\n",
              "</style>\n",
              "<table border=\"1\" class=\"dataframe\">\n",
              "  <thead>\n",
              "    <tr style=\"text-align: right;\">\n",
              "      <th></th>\n",
              "      <th>retail_and_recreation</th>\n",
              "      <th>grocery_and_pharmacy</th>\n",
              "      <th>residential</th>\n",
              "      <th>transit_stations</th>\n",
              "      <th>parks</th>\n",
              "      <th>workplaces</th>\n",
              "      <th>new_cases</th>\n",
              "    </tr>\n",
              "  </thead>\n",
              "  <tbody>\n",
              "    <tr>\n",
              "      <th>retail_and_recreation</th>\n",
              "      <td>1.000000</td>\n",
              "      <td>0.820786</td>\n",
              "      <td>-0.925891</td>\n",
              "      <td>0.970580</td>\n",
              "      <td>0.906370</td>\n",
              "      <td>0.928552</td>\n",
              "      <td>-0.134351</td>\n",
              "    </tr>\n",
              "    <tr>\n",
              "      <th>grocery_and_pharmacy</th>\n",
              "      <td>0.820786</td>\n",
              "      <td>1.000000</td>\n",
              "      <td>-0.840430</td>\n",
              "      <td>0.913562</td>\n",
              "      <td>0.664009</td>\n",
              "      <td>0.867805</td>\n",
              "      <td>-0.052792</td>\n",
              "    </tr>\n",
              "    <tr>\n",
              "      <th>residential</th>\n",
              "      <td>-0.925891</td>\n",
              "      <td>-0.840430</td>\n",
              "      <td>1.000000</td>\n",
              "      <td>-0.928817</td>\n",
              "      <td>-0.768427</td>\n",
              "      <td>-0.969960</td>\n",
              "      <td>0.313037</td>\n",
              "    </tr>\n",
              "    <tr>\n",
              "      <th>transit_stations</th>\n",
              "      <td>0.970580</td>\n",
              "      <td>0.913562</td>\n",
              "      <td>-0.928817</td>\n",
              "      <td>1.000000</td>\n",
              "      <td>0.880851</td>\n",
              "      <td>0.951951</td>\n",
              "      <td>-0.153770</td>\n",
              "    </tr>\n",
              "    <tr>\n",
              "      <th>parks</th>\n",
              "      <td>0.906370</td>\n",
              "      <td>0.664009</td>\n",
              "      <td>-0.768427</td>\n",
              "      <td>0.880851</td>\n",
              "      <td>1.000000</td>\n",
              "      <td>0.794867</td>\n",
              "      <td>-0.119766</td>\n",
              "    </tr>\n",
              "    <tr>\n",
              "      <th>workplaces</th>\n",
              "      <td>0.928552</td>\n",
              "      <td>0.867805</td>\n",
              "      <td>-0.969960</td>\n",
              "      <td>0.951951</td>\n",
              "      <td>0.794867</td>\n",
              "      <td>1.000000</td>\n",
              "      <td>-0.232405</td>\n",
              "    </tr>\n",
              "    <tr>\n",
              "      <th>new_cases</th>\n",
              "      <td>-0.134351</td>\n",
              "      <td>-0.052792</td>\n",
              "      <td>0.313037</td>\n",
              "      <td>-0.153770</td>\n",
              "      <td>-0.119766</td>\n",
              "      <td>-0.232405</td>\n",
              "      <td>1.000000</td>\n",
              "    </tr>\n",
              "  </tbody>\n",
              "</table>\n",
              "</div>\n",
              "      <button class=\"colab-df-convert\" onclick=\"convertToInteractive('df-05209980-74fe-4f57-b9c0-bf58be47af30')\"\n",
              "              title=\"Convert this dataframe to an interactive table.\"\n",
              "              style=\"display:none;\">\n",
              "        \n",
              "  <svg xmlns=\"http://www.w3.org/2000/svg\" height=\"24px\"viewBox=\"0 0 24 24\"\n",
              "       width=\"24px\">\n",
              "    <path d=\"M0 0h24v24H0V0z\" fill=\"none\"/>\n",
              "    <path d=\"M18.56 5.44l.94 2.06.94-2.06 2.06-.94-2.06-.94-.94-2.06-.94 2.06-2.06.94zm-11 1L8.5 8.5l.94-2.06 2.06-.94-2.06-.94L8.5 2.5l-.94 2.06-2.06.94zm10 10l.94 2.06.94-2.06 2.06-.94-2.06-.94-.94-2.06-.94 2.06-2.06.94z\"/><path d=\"M17.41 7.96l-1.37-1.37c-.4-.4-.92-.59-1.43-.59-.52 0-1.04.2-1.43.59L10.3 9.45l-7.72 7.72c-.78.78-.78 2.05 0 2.83L4 21.41c.39.39.9.59 1.41.59.51 0 1.02-.2 1.41-.59l7.78-7.78 2.81-2.81c.8-.78.8-2.07 0-2.86zM5.41 20L4 18.59l7.72-7.72 1.47 1.35L5.41 20z\"/>\n",
              "  </svg>\n",
              "      </button>\n",
              "      \n",
              "  <style>\n",
              "    .colab-df-container {\n",
              "      display:flex;\n",
              "      flex-wrap:wrap;\n",
              "      gap: 12px;\n",
              "    }\n",
              "\n",
              "    .colab-df-convert {\n",
              "      background-color: #E8F0FE;\n",
              "      border: none;\n",
              "      border-radius: 50%;\n",
              "      cursor: pointer;\n",
              "      display: none;\n",
              "      fill: #1967D2;\n",
              "      height: 32px;\n",
              "      padding: 0 0 0 0;\n",
              "      width: 32px;\n",
              "    }\n",
              "\n",
              "    .colab-df-convert:hover {\n",
              "      background-color: #E2EBFA;\n",
              "      box-shadow: 0px 1px 2px rgba(60, 64, 67, 0.3), 0px 1px 3px 1px rgba(60, 64, 67, 0.15);\n",
              "      fill: #174EA6;\n",
              "    }\n",
              "\n",
              "    [theme=dark] .colab-df-convert {\n",
              "      background-color: #3B4455;\n",
              "      fill: #D2E3FC;\n",
              "    }\n",
              "\n",
              "    [theme=dark] .colab-df-convert:hover {\n",
              "      background-color: #434B5C;\n",
              "      box-shadow: 0px 1px 3px 1px rgba(0, 0, 0, 0.15);\n",
              "      filter: drop-shadow(0px 1px 2px rgba(0, 0, 0, 0.3));\n",
              "      fill: #FFFFFF;\n",
              "    }\n",
              "  </style>\n",
              "\n",
              "      <script>\n",
              "        const buttonEl =\n",
              "          document.querySelector('#df-05209980-74fe-4f57-b9c0-bf58be47af30 button.colab-df-convert');\n",
              "        buttonEl.style.display =\n",
              "          google.colab.kernel.accessAllowed ? 'block' : 'none';\n",
              "\n",
              "        async function convertToInteractive(key) {\n",
              "          const element = document.querySelector('#df-05209980-74fe-4f57-b9c0-bf58be47af30');\n",
              "          const dataTable =\n",
              "            await google.colab.kernel.invokeFunction('convertToInteractive',\n",
              "                                                     [key], {});\n",
              "          if (!dataTable) return;\n",
              "\n",
              "          const docLinkHtml = 'Like what you see? Visit the ' +\n",
              "            '<a target=\"_blank\" href=https://colab.research.google.com/notebooks/data_table.ipynb>data table notebook</a>'\n",
              "            + ' to learn more about interactive tables.';\n",
              "          element.innerHTML = '';\n",
              "          dataTable['output_type'] = 'display_data';\n",
              "          await google.colab.output.renderOutput(dataTable, element);\n",
              "          const docLink = document.createElement('div');\n",
              "          docLink.innerHTML = docLinkHtml;\n",
              "          element.appendChild(docLink);\n",
              "        }\n",
              "      </script>\n",
              "    </div>\n",
              "  </div>\n",
              "  "
            ]
          },
          "metadata": {},
          "execution_count": 548
        }
      ]
    },
    {
      "cell_type": "markdown",
      "source": [
        "Clearly, new_cases is correlated with residential only... the other features are showing negative correlation. Hence for clustering, we are taking only 'residential' in consideration"
      ],
      "metadata": {
        "id": "11qbbymOTxSo"
      }
    },
    {
      "cell_type": "markdown",
      "source": [
        "# II\n",
        "Perform K-Means clustering on data examples. Using subsets in different\n",
        "clusters, design a “K-means Forest”. Predict results by taking the average (or\n",
        "weighted average by comparing test examples with cluster centroid) of results\n",
        "predicted by trees in the forest."
      ],
      "metadata": {
        "id": "ls9WVVLDB408"
      }
    },
    {
      "cell_type": "markdown",
      "source": [
        "K MEANS CLUSTERING "
      ],
      "metadata": {
        "id": "xN_LvJ_bEgn2"
      }
    },
    {
      "cell_type": "code",
      "source": [
        "import pandas as pd\n",
        "import numpy as np\n",
        "\n",
        "data = final_df\n",
        "\n",
        "def initilize_centroids(data, k):\n",
        "    n_dims = data.shape[1]\n",
        "    centroids = [ [] for i in range(k) ]\n",
        "\n",
        "    for i in range(n_dims):\n",
        "        nd_column = data.iloc[:,i]\n",
        "        centroid_min = nd_column.min()\n",
        "        centroid_max = nd_column.max()\n",
        "        points = np.random.uniform(centroid_min, centroid_max, k)\n",
        "        for i in range(k):\n",
        "            centroids[i].append(points[i])\n",
        "        \n",
        "\n",
        "    centroids = pd.DataFrame(centroids, columns = data.columns)\n",
        "    return centroids\n",
        "\n",
        "def calculate_error(a, b):\n",
        "    return np.square(np.sum((a-b)**2))\n",
        "\n",
        "def assign_centroid(data, centroids):\n",
        "    '''\n",
        "        Assigns centroid to each of the data entries\n",
        "        to form cluster with the same. Using index for assignment\n",
        "    '''\n",
        "\n",
        "    n_observations = data.shape[0]\n",
        "    centroid_assign = []\n",
        "    centroid_errors = []\n",
        "    k = centroids.shape[0]\n",
        "\n",
        "    for entry in range(n_observations):\n",
        "        errors = []\n",
        "        for i in range(k):\n",
        "            errors.append(calculate_error(data.iloc[entry], centroids.iloc[i]))\n",
        "        centroid_index = errors.index(min(errors))\n",
        "        centroid_assign.append(centroid_index)\n",
        "        centroid_errors.append(min(errors))\n",
        "        #print(centroid_index, min(errors))\n",
        "    return (centroid_assign, centroid_errors)\n",
        "    \n",
        "\n",
        "\n",
        "\n",
        "def kmeans(data, k):\n",
        "    '''\n",
        "        Cretaing k clusters for the given dataset a\n",
        "    '''\n",
        "\n",
        "    centroids = initilize_centroids(data, k)\n",
        "    error = []\n",
        "    data_columns = data.columns\n",
        "    data['centroid'] = 0\n",
        "    data['error'] = 0\n",
        "    for i in range(10):\n",
        "        data['centroid'], data['error'] = assign_centroid(data.iloc[:,:2], centroids)\n",
        "        centroids = data.groupby('centroid').agg('mean').loc[:, data_columns].reset_index(drop = True)\n",
        "        # print(\"Total error = \", data['error'].sum())"
      ],
      "metadata": {
        "id": "NBgBKR3-wkrT"
      },
      "execution_count": null,
      "outputs": []
    },
    {
      "cell_type": "code",
      "source": [
        "# data\n",
        "kmeans(data,4)\n",
        "data"
      ],
      "metadata": {
        "colab": {
          "base_uri": "https://localhost:8080/",
          "height": 423
        },
        "id": "CbtBMuAHxOg4",
        "outputId": "039f0997-2688-4fa9-c8b3-02ee57d1518b"
      },
      "execution_count": null,
      "outputs": [
        {
          "output_type": "execute_result",
          "data": {
            "text/plain": [
              "     retail_and_recreation  grocery_and_pharmacy  residential  \\\n",
              "0                    0.667                 1.667        0.000   \n",
              "1                    0.500                 1.750        0.000   \n",
              "2                    0.400                 1.800        0.200   \n",
              "3                    0.500                 2.000        0.000   \n",
              "4                   -0.143                 1.714        0.714   \n",
              "..                     ...                   ...          ...   \n",
              "466                -61.714               -25.000       24.143   \n",
              "467                -61.286               -24.429       23.714   \n",
              "468                -61.143               -24.714       23.714   \n",
              "469                -60.143               -23.429       23.286   \n",
              "470                -58.714               -21.143       22.714   \n",
              "\n",
              "     transit_stations   parks  workplaces  new_cases  centroid          error  \n",
              "0               2.000   3.000       3.000        0.0         3  420755.120750  \n",
              "1               2.000   3.250       3.000        0.0         3  408661.700720  \n",
              "2               1.800   2.800       3.200        0.0         3  401540.469492  \n",
              "3               2.333   3.167       3.333        0.0         3  403445.891827  \n",
              "4               1.429   3.571       0.143        0.0         3  371577.089154  \n",
              "..                ...     ...         ...        ...       ...            ...  \n",
              "466           -49.143 -41.000     -45.429   173790.0         0     964.550425  \n",
              "467           -48.714 -40.000     -44.571   165553.0         0    1057.910711  \n",
              "468           -49.000 -39.143     -44.286   152734.0         0    1252.471920  \n",
              "469           -48.286 -38.000     -43.429   127510.0         0    1800.518610  \n",
              "470           -47.000 -36.571     -42.429   132788.0         0    3901.816195  \n",
              "\n",
              "[471 rows x 9 columns]"
            ],
            "text/html": [
              "\n",
              "  <div id=\"df-185ee324-bcee-45c7-8973-48a34b33bd54\">\n",
              "    <div class=\"colab-df-container\">\n",
              "      <div>\n",
              "<style scoped>\n",
              "    .dataframe tbody tr th:only-of-type {\n",
              "        vertical-align: middle;\n",
              "    }\n",
              "\n",
              "    .dataframe tbody tr th {\n",
              "        vertical-align: top;\n",
              "    }\n",
              "\n",
              "    .dataframe thead th {\n",
              "        text-align: right;\n",
              "    }\n",
              "</style>\n",
              "<table border=\"1\" class=\"dataframe\">\n",
              "  <thead>\n",
              "    <tr style=\"text-align: right;\">\n",
              "      <th></th>\n",
              "      <th>retail_and_recreation</th>\n",
              "      <th>grocery_and_pharmacy</th>\n",
              "      <th>residential</th>\n",
              "      <th>transit_stations</th>\n",
              "      <th>parks</th>\n",
              "      <th>workplaces</th>\n",
              "      <th>new_cases</th>\n",
              "      <th>centroid</th>\n",
              "      <th>error</th>\n",
              "    </tr>\n",
              "  </thead>\n",
              "  <tbody>\n",
              "    <tr>\n",
              "      <th>0</th>\n",
              "      <td>0.667</td>\n",
              "      <td>1.667</td>\n",
              "      <td>0.000</td>\n",
              "      <td>2.000</td>\n",
              "      <td>3.000</td>\n",
              "      <td>3.000</td>\n",
              "      <td>0.0</td>\n",
              "      <td>3</td>\n",
              "      <td>420755.120750</td>\n",
              "    </tr>\n",
              "    <tr>\n",
              "      <th>1</th>\n",
              "      <td>0.500</td>\n",
              "      <td>1.750</td>\n",
              "      <td>0.000</td>\n",
              "      <td>2.000</td>\n",
              "      <td>3.250</td>\n",
              "      <td>3.000</td>\n",
              "      <td>0.0</td>\n",
              "      <td>3</td>\n",
              "      <td>408661.700720</td>\n",
              "    </tr>\n",
              "    <tr>\n",
              "      <th>2</th>\n",
              "      <td>0.400</td>\n",
              "      <td>1.800</td>\n",
              "      <td>0.200</td>\n",
              "      <td>1.800</td>\n",
              "      <td>2.800</td>\n",
              "      <td>3.200</td>\n",
              "      <td>0.0</td>\n",
              "      <td>3</td>\n",
              "      <td>401540.469492</td>\n",
              "    </tr>\n",
              "    <tr>\n",
              "      <th>3</th>\n",
              "      <td>0.500</td>\n",
              "      <td>2.000</td>\n",
              "      <td>0.000</td>\n",
              "      <td>2.333</td>\n",
              "      <td>3.167</td>\n",
              "      <td>3.333</td>\n",
              "      <td>0.0</td>\n",
              "      <td>3</td>\n",
              "      <td>403445.891827</td>\n",
              "    </tr>\n",
              "    <tr>\n",
              "      <th>4</th>\n",
              "      <td>-0.143</td>\n",
              "      <td>1.714</td>\n",
              "      <td>0.714</td>\n",
              "      <td>1.429</td>\n",
              "      <td>3.571</td>\n",
              "      <td>0.143</td>\n",
              "      <td>0.0</td>\n",
              "      <td>3</td>\n",
              "      <td>371577.089154</td>\n",
              "    </tr>\n",
              "    <tr>\n",
              "      <th>...</th>\n",
              "      <td>...</td>\n",
              "      <td>...</td>\n",
              "      <td>...</td>\n",
              "      <td>...</td>\n",
              "      <td>...</td>\n",
              "      <td>...</td>\n",
              "      <td>...</td>\n",
              "      <td>...</td>\n",
              "      <td>...</td>\n",
              "    </tr>\n",
              "    <tr>\n",
              "      <th>466</th>\n",
              "      <td>-61.714</td>\n",
              "      <td>-25.000</td>\n",
              "      <td>24.143</td>\n",
              "      <td>-49.143</td>\n",
              "      <td>-41.000</td>\n",
              "      <td>-45.429</td>\n",
              "      <td>173790.0</td>\n",
              "      <td>0</td>\n",
              "      <td>964.550425</td>\n",
              "    </tr>\n",
              "    <tr>\n",
              "      <th>467</th>\n",
              "      <td>-61.286</td>\n",
              "      <td>-24.429</td>\n",
              "      <td>23.714</td>\n",
              "      <td>-48.714</td>\n",
              "      <td>-40.000</td>\n",
              "      <td>-44.571</td>\n",
              "      <td>165553.0</td>\n",
              "      <td>0</td>\n",
              "      <td>1057.910711</td>\n",
              "    </tr>\n",
              "    <tr>\n",
              "      <th>468</th>\n",
              "      <td>-61.143</td>\n",
              "      <td>-24.714</td>\n",
              "      <td>23.714</td>\n",
              "      <td>-49.000</td>\n",
              "      <td>-39.143</td>\n",
              "      <td>-44.286</td>\n",
              "      <td>152734.0</td>\n",
              "      <td>0</td>\n",
              "      <td>1252.471920</td>\n",
              "    </tr>\n",
              "    <tr>\n",
              "      <th>469</th>\n",
              "      <td>-60.143</td>\n",
              "      <td>-23.429</td>\n",
              "      <td>23.286</td>\n",
              "      <td>-48.286</td>\n",
              "      <td>-38.000</td>\n",
              "      <td>-43.429</td>\n",
              "      <td>127510.0</td>\n",
              "      <td>0</td>\n",
              "      <td>1800.518610</td>\n",
              "    </tr>\n",
              "    <tr>\n",
              "      <th>470</th>\n",
              "      <td>-58.714</td>\n",
              "      <td>-21.143</td>\n",
              "      <td>22.714</td>\n",
              "      <td>-47.000</td>\n",
              "      <td>-36.571</td>\n",
              "      <td>-42.429</td>\n",
              "      <td>132788.0</td>\n",
              "      <td>0</td>\n",
              "      <td>3901.816195</td>\n",
              "    </tr>\n",
              "  </tbody>\n",
              "</table>\n",
              "<p>471 rows × 9 columns</p>\n",
              "</div>\n",
              "      <button class=\"colab-df-convert\" onclick=\"convertToInteractive('df-185ee324-bcee-45c7-8973-48a34b33bd54')\"\n",
              "              title=\"Convert this dataframe to an interactive table.\"\n",
              "              style=\"display:none;\">\n",
              "        \n",
              "  <svg xmlns=\"http://www.w3.org/2000/svg\" height=\"24px\"viewBox=\"0 0 24 24\"\n",
              "       width=\"24px\">\n",
              "    <path d=\"M0 0h24v24H0V0z\" fill=\"none\"/>\n",
              "    <path d=\"M18.56 5.44l.94 2.06.94-2.06 2.06-.94-2.06-.94-.94-2.06-.94 2.06-2.06.94zm-11 1L8.5 8.5l.94-2.06 2.06-.94-2.06-.94L8.5 2.5l-.94 2.06-2.06.94zm10 10l.94 2.06.94-2.06 2.06-.94-2.06-.94-.94-2.06-.94 2.06-2.06.94z\"/><path d=\"M17.41 7.96l-1.37-1.37c-.4-.4-.92-.59-1.43-.59-.52 0-1.04.2-1.43.59L10.3 9.45l-7.72 7.72c-.78.78-.78 2.05 0 2.83L4 21.41c.39.39.9.59 1.41.59.51 0 1.02-.2 1.41-.59l7.78-7.78 2.81-2.81c.8-.78.8-2.07 0-2.86zM5.41 20L4 18.59l7.72-7.72 1.47 1.35L5.41 20z\"/>\n",
              "  </svg>\n",
              "      </button>\n",
              "      \n",
              "  <style>\n",
              "    .colab-df-container {\n",
              "      display:flex;\n",
              "      flex-wrap:wrap;\n",
              "      gap: 12px;\n",
              "    }\n",
              "\n",
              "    .colab-df-convert {\n",
              "      background-color: #E8F0FE;\n",
              "      border: none;\n",
              "      border-radius: 50%;\n",
              "      cursor: pointer;\n",
              "      display: none;\n",
              "      fill: #1967D2;\n",
              "      height: 32px;\n",
              "      padding: 0 0 0 0;\n",
              "      width: 32px;\n",
              "    }\n",
              "\n",
              "    .colab-df-convert:hover {\n",
              "      background-color: #E2EBFA;\n",
              "      box-shadow: 0px 1px 2px rgba(60, 64, 67, 0.3), 0px 1px 3px 1px rgba(60, 64, 67, 0.15);\n",
              "      fill: #174EA6;\n",
              "    }\n",
              "\n",
              "    [theme=dark] .colab-df-convert {\n",
              "      background-color: #3B4455;\n",
              "      fill: #D2E3FC;\n",
              "    }\n",
              "\n",
              "    [theme=dark] .colab-df-convert:hover {\n",
              "      background-color: #434B5C;\n",
              "      box-shadow: 0px 1px 3px 1px rgba(0, 0, 0, 0.15);\n",
              "      filter: drop-shadow(0px 1px 2px rgba(0, 0, 0, 0.3));\n",
              "      fill: #FFFFFF;\n",
              "    }\n",
              "  </style>\n",
              "\n",
              "      <script>\n",
              "        const buttonEl =\n",
              "          document.querySelector('#df-185ee324-bcee-45c7-8973-48a34b33bd54 button.colab-df-convert');\n",
              "        buttonEl.style.display =\n",
              "          google.colab.kernel.accessAllowed ? 'block' : 'none';\n",
              "\n",
              "        async function convertToInteractive(key) {\n",
              "          const element = document.querySelector('#df-185ee324-bcee-45c7-8973-48a34b33bd54');\n",
              "          const dataTable =\n",
              "            await google.colab.kernel.invokeFunction('convertToInteractive',\n",
              "                                                     [key], {});\n",
              "          if (!dataTable) return;\n",
              "\n",
              "          const docLinkHtml = 'Like what you see? Visit the ' +\n",
              "            '<a target=\"_blank\" href=https://colab.research.google.com/notebooks/data_table.ipynb>data table notebook</a>'\n",
              "            + ' to learn more about interactive tables.';\n",
              "          element.innerHTML = '';\n",
              "          dataTable['output_type'] = 'display_data';\n",
              "          await google.colab.output.renderOutput(dataTable, element);\n",
              "          const docLink = document.createElement('div');\n",
              "          docLink.innerHTML = docLinkHtml;\n",
              "          element.appendChild(docLink);\n",
              "        }\n",
              "      </script>\n",
              "    </div>\n",
              "  </div>\n",
              "  "
            ]
          },
          "metadata": {},
          "execution_count": 550
        }
      ]
    },
    {
      "cell_type": "markdown",
      "source": [
        "Use CART to create trees in the forest."
      ],
      "metadata": {
        "id": "lS5DA8lyCDDC"
      }
    },
    {
      "cell_type": "markdown",
      "source": [
        "Forest Construction on CART"
      ],
      "metadata": {
        "id": "YZZyTc_xMYIx"
      }
    },
    {
      "cell_type": "markdown",
      "source": [
        "Redefination"
      ],
      "metadata": {
        "id": "gLB_zrdrMX7a"
      }
    },
    {
      "cell_type": "code",
      "source": [
        "class Node:\n",
        "\n",
        "  def __init__(self,predicted_val,num_samples):\n",
        "          self.num_samples = num_samples\n",
        "          self.predicted_val = predicted_val\n",
        "          self.feature_index = 1\n",
        "          self.threshold = 0\n",
        "          self.left = None\n",
        "          self.right = None\n",
        "\n",
        "  def is_leaf_node(self):\n",
        "    \n",
        "        return self.predicted_val is not None"
      ],
      "metadata": {
        "id": "HkobjKC1OPrw"
      },
      "execution_count": null,
      "outputs": []
    },
    {
      "cell_type": "code",
      "source": [
        "class CART:\n",
        "    \n",
        "\n",
        "    def __init__(self,min_samples_split=2,n_feats=None,max_depth=None):\n",
        "        self.max_depth = max_depth\n",
        "        self.min_samples_split = min_samples_split\n",
        "        self.n_feats = n_feats\n",
        "        self.root = None\n",
        "\n",
        "    def fit(self, x, y):\n",
        "\n",
        "        self.n_feats=x.shape[1] if not self.n_feats else min(self.n_feats, X.shape[1])\n",
        "        self.root=self.grow_tree(x,y)\n",
        "\n",
        "\n",
        "    def grow_tree(self,X,y,depth=0):\n",
        "\n",
        "        n_samples, n_features = X.shape\n",
        "\n",
        "\n",
        "        feat_idxs = np.random.choice(n_features, self.n_feats, replace=False)\n",
        "\n",
        "        predicted_val=np.mean(y)\n",
        "        node = Node(num_samples=y.size,\n",
        "                    predicted_val=predicted_val)\n",
        "\n",
        "        if depth < self.max_depth and n_samples >= self.min_samples_split:\n",
        "           \n",
        "            idx, thr = self._best_split(X, y)\n",
        "            \n",
        "            if idx is not None:\n",
        "                indices_left = X.iloc[:, idx] < thr\n",
        "                X_left, y_left = X[indices_left], y[indices_left]\n",
        "                X_right, y_right = X[~indices_left], y[~indices_left]\n",
        "                node.feature_index = int(idx)\n",
        "                node.threshold = float(thr)\n",
        "                node.left = self.grow_tree(X_left, y_left, depth + 1)\n",
        "                node.right = self.grow_tree(X_right, y_right, depth + 1)\n",
        "\n",
        "        return node\n",
        "\n",
        "    def predicts(self, X):\n",
        "        return np.array([self._predict(inputs) for inputs in X])\n",
        "    \n",
        "\n",
        "    def _predict(self, inputs):\n",
        "\n",
        "        node = self.root\n",
        "      \n",
        "        while node.left:\n",
        "            \n",
        "            if inputs[node.feature_index] < node.threshold:\n",
        "                node = node.left\n",
        "            else:\n",
        "                node = node.right\n",
        "\n",
        "        return(node.predicted_val)\n",
        "        \n",
        "\n",
        "    def _best_split(self, X, y):\n",
        "        \n",
        "        m = y.size\n",
        "        \n",
        "        if m <= 1:\n",
        "            return None, None\n",
        "\n",
        "        sd_parent =standard_deviation(y)\n",
        "        \n",
        "        best_sd = sd_parent\n",
        "        best_idx, best_thr = None, None\n",
        "\n",
        "        for idx in range(self.n_feats):\n",
        "            thresholds, Val = zip(*sorted(zip(X.iloc[:, idx], y)))\n",
        "\n",
        "\n",
        "\n",
        "            sd_left=[0]\n",
        "            sd_right=Val\n",
        "            sd_right=sd_right[1:]\n",
        "\n",
        "            \n",
        "\n",
        "            for i in range(1,m):\n",
        "\n",
        "                split=(thresholds[i]+thresholds[i-1])/2\n",
        "\n",
        "                sd_l=standard_deviation(sd_left)\n",
        "                sd_r=standard_deviation(sd_right)\n",
        "              \n",
        "                sd_left.append(sd_right[0])\n",
        "                sd_right=sd_right[1:]\n",
        "\n",
        "                child_sd=(i*sd_l +(m-i)*sd_r)/m\n",
        "              \n",
        "                if thresholds[i] == thresholds[i - 1]:\n",
        "                    continue\n",
        "\n",
        "                if child_sd < best_sd:\n",
        "                   \n",
        "                    best_sd=child_sd\n",
        "                    best_idx=idx\n",
        "                    best_thr=split\n",
        "       \n",
        "        return best_idx, best_thr"
      ],
      "metadata": {
        "id": "9G8uYkp5N65h"
      },
      "execution_count": null,
      "outputs": []
    },
    {
      "cell_type": "code",
      "source": [
        "from collections import Counter\n",
        "\n",
        "def avg_val(y):\n",
        "    return(np.mean(y))\n",
        "\n",
        "class Forest:\n",
        "    \n",
        "    def __init__(self, n_trees=5, min_samples_split=2,\n",
        "                 max_depth=10, n_feats=None):\n",
        "        self.n_trees = n_trees\n",
        "        self.min_samples_split = min_samples_split\n",
        "        self.max_depth = max_depth\n",
        "        self.n_feats = n_feats\n",
        "        self.trees = []\n",
        "\n",
        "    def fit(self, X, y):\n",
        "        self.trees = []\n",
        "        for _ in range(self.n_trees):\n",
        "            tree = CART(min_samples_split=self.min_samples_split,\n",
        "                max_depth=self.max_depth, n_feats=self.n_feats)\n",
        "            X_samp, y_samp = X, y\n",
        "            tree.fit(X_samp, y_samp)\n",
        "            self.trees.append(tree)\n",
        "\n",
        "    def predict(self, X):\n",
        "        tree_preds = np.array([tree.predicts(X) for tree in self.trees])\n",
        "        tree_preds = np.swapaxes(tree_preds, 0, 1)\n",
        "        \n",
        "        y_pred = [avg_val(tree_pred) for tree_pred in tree_preds]\n",
        "        return np.array(y_pred)"
      ],
      "metadata": {
        "id": "Lz0yeU7UNCA0"
      },
      "execution_count": null,
      "outputs": []
    },
    {
      "cell_type": "code",
      "source": [
        "X = data[['retail_and_recreation',\t'grocery_and_pharmacy',\t'residential',\t'transit_stations',\t'parks',\t'workplaces',\t'centroid',\t'error']]\n",
        "y = data['new_cases']\n",
        "X_train, X_test, y_train, y_test = train_test_split(X, y, test_size=0.2)"
      ],
      "metadata": {
        "id": "q2U-sWNRy-L5"
      },
      "execution_count": null,
      "outputs": []
    },
    {
      "cell_type": "code",
      "source": [
        "clf = Forest(n_trees = 5)\n",
        "clf.fit(X_train,y_train)\n",
        "\n",
        "test=[]\n",
        "for index, rows in X_test.iterrows():\n",
        "    my_list =[rows.retail_and_recreation, rows.grocery_and_pharmacy, rows.residential, rows.transit_stations, rows.parks, rows.workplaces,rows.centroid,rows.error]\n",
        "\n",
        "    test.append(my_list)\n",
        "\n",
        "y_pred = clf.predict(test) "
      ],
      "metadata": {
        "id": "06Fqb3sxNEms"
      },
      "execution_count": null,
      "outputs": []
    },
    {
      "cell_type": "code",
      "source": [
        "y_pred"
      ],
      "metadata": {
        "colab": {
          "base_uri": "https://localhost:8080/"
        },
        "id": "qz9yjrFpNIkD",
        "outputId": "d374d624-2a00-444d-83be-2e017805dc4b"
      },
      "execution_count": null,
      "outputs": [
        {
          "output_type": "execute_result",
          "data": {
            "text/plain": [
              "array([3.84710182e+05, 1.69850000e+03, 2.37785556e+04, 1.01615714e+04,\n",
              "       5.18000000e+02, 3.70000000e+01, 5.62110000e+04, 1.43051579e+04,\n",
              "       1.61992000e+04, 7.32189286e+04, 1.64967500e+04, 7.32189286e+04,\n",
              "       6.30068750e+04, 5.45000000e+02, 3.41775000e+03, 1.09960000e+03,\n",
              "       1.52440000e+04, 0.00000000e+00, 2.55282500e+04, 7.21630000e+03,\n",
              "       4.15063590e+04, 4.15063590e+04, 4.86400000e+03, 7.32189286e+04,\n",
              "       5.38130000e+04, 1.38676000e+05, 9.32490000e+04, 2.37785556e+04,\n",
              "       3.62727000e+05, 3.41775000e+03, 1.64880000e+04, 1.61992000e+04,\n",
              "       2.37785556e+04, 2.37785556e+04, 6.00000000e+00, 1.64967500e+04,\n",
              "       6.30068750e+04, 5.72240000e+04, 5.27830000e+04, 3.76300000e+03,\n",
              "       1.52440000e+04, 4.15063590e+04, 4.67800000e+04, 7.32189286e+04,\n",
              "       3.41775000e+03, 1.01615714e+04, 1.64967500e+04, 1.84372000e+05,\n",
              "       2.22510000e+04, 2.35534125e+05, 1.64967500e+04, 6.30068750e+04,\n",
              "       1.09960000e+03, 5.27830000e+04, 1.28810000e+04, 7.64720000e+04,\n",
              "       7.21630000e+03, 8.82258333e+04, 1.59962500e+04, 1.61992000e+04,\n",
              "       3.52520000e+04, 5.38130000e+04, 2.00739000e+05, 1.09960000e+03,\n",
              "       0.00000000e+00, 7.32189286e+04, 5.43660000e+04, 1.43051579e+04,\n",
              "       1.03558000e+05, 9.32490000e+04, 1.64880000e+04, 4.15063590e+04,\n",
              "       3.84710182e+05, 1.64967500e+04, 1.01615714e+04, 2.35534125e+05,\n",
              "       9.11000000e+03, 1.43051579e+04, 9.32490000e+04, 9.01230000e+04,\n",
              "       2.87320000e+04, 7.23300000e+04, 1.28810000e+04, 2.32850000e+04,\n",
              "       0.00000000e+00, 1.61992000e+04, 5.38130000e+04, 5.20500000e+04,\n",
              "       7.32189286e+04, 2.76110000e+05, 2.00350000e+04, 5.18000000e+02,\n",
              "       1.28810000e+04, 7.32189286e+04, 1.01615714e+04])"
            ]
          },
          "metadata": {},
          "execution_count": 556
        }
      ]
    },
    {
      "cell_type": "markdown",
      "source": [
        "ACCURACY AND PERFORMANCE"
      ],
      "metadata": {
        "id": "rwfh7Lpk35Bq"
      }
    },
    {
      "cell_type": "code",
      "source": [
        "import seaborn as sns\n",
        "plt.figure(figsize=(8, 8))\n",
        "\n",
        "\n",
        "ax = sns.distplot(y_test, hist=False, color=\"r\", label=\"Actual Value\")\n",
        "sns.distplot(y_pred, hist=False, color=\"b\", label=\"Fitted Values\" , ax=ax)\n",
        "\n",
        "\n",
        "plt.title('Actual vs Fitted Values')\n",
        "\n",
        "\n",
        "plt.show()\n",
        "plt.close()"
      ],
      "metadata": {
        "colab": {
          "base_uri": "https://localhost:8080/",
          "height": 602
        },
        "id": "CPbK1dNiATgN",
        "outputId": "3991f092-e9ba-4fd0-a211-bee5b5329030"
      },
      "execution_count": null,
      "outputs": [
        {
          "output_type": "stream",
          "name": "stderr",
          "text": [
            "/usr/local/lib/python3.7/dist-packages/seaborn/distributions.py:2619: FutureWarning: `distplot` is a deprecated function and will be removed in a future version. Please adapt your code to use either `displot` (a figure-level function with similar flexibility) or `kdeplot` (an axes-level function for kernel density plots).\n",
            "  warnings.warn(msg, FutureWarning)\n",
            "/usr/local/lib/python3.7/dist-packages/seaborn/distributions.py:2619: FutureWarning: `distplot` is a deprecated function and will be removed in a future version. Please adapt your code to use either `displot` (a figure-level function with similar flexibility) or `kdeplot` (an axes-level function for kernel density plots).\n",
            "  warnings.warn(msg, FutureWarning)\n"
          ]
        },
        {
          "output_type": "display_data",
          "data": {
            "text/plain": [
              "<Figure size 576x576 with 1 Axes>"
            ],
            "image/png": "[encoded data removed]"
          },
          "metadata": {
            "needs_background": "light"
          }
        }
      ]
    },
    {
      "cell_type": "code",
      "source": [
        "from sklearn.metrics import mean_squared_error\n",
        "rmse=np.sqrt(mean_squared_error(y_test,y_pred))\n",
        "rmse\n"
      ],
      "metadata": {
        "colab": {
          "base_uri": "https://localhost:8080/"
        },
        "id": "0fEgfYnPNNzc",
        "outputId": "ab754acc-1bd3-4308-a6bc-54400b1b8da1"
      },
      "execution_count": null,
      "outputs": [
        {
          "output_type": "execute_result",
          "data": {
            "text/plain": [
              "24158.141365102838"
            ]
          },
          "metadata": {},
          "execution_count": 558
        }
      ]
    },
    {
      "cell_type": "code",
      "source": [
        "score=r2_score(y_test,y_pred)\n",
        "score"
      ],
      "metadata": {
        "colab": {
          "base_uri": "https://localhost:8080/"
        },
        "id": "w5cRKYclOoaj",
        "outputId": "b03a08a3-e6fd-4530-bd0d-5c9b3e9d0a23"
      },
      "execution_count": null,
      "outputs": [
        {
          "output_type": "execute_result",
          "data": {
            "text/plain": [
              "0.9084702386203062"
            ]
          },
          "metadata": {},
          "execution_count": 559
        }
      ]
    },
    {
      "cell_type": "markdown",
      "source": [
        "Use ID3-A to create trees in the forest."
      ],
      "metadata": {
        "id": "jpblYhd2CIrF"
      }
    },
    {
      "cell_type": "markdown",
      "source": [
        "ID3A K MEANS FOREST"
      ],
      "metadata": {
        "id": "1mPFce5g3kiI"
      }
    },
    {
      "cell_type": "code",
      "source": [
        "class Node_Id3:\n",
        "\n",
        "    def __init__(self, x, y, idxs, min_leaf=5):\n",
        "        self.x = x \n",
        "        self.y = y\n",
        "        self.idxs = idxs \n",
        "        self.min_leaf = min_leaf\n",
        "        self.row_count = len(idxs)\n",
        "        self.col_count = x.shape[1]\n",
        "        self.val = np.mean(y[idxs])\n",
        "        self.score = float('inf')\n",
        "        self.find_varsplit()\n",
        "      \n",
        "    def find_varsplit(self):\n",
        "        for c in range(self.col_count): self.find_better_split(c)\n",
        "        if self.is_leaf: return\n",
        "        x = self.split_col\n",
        "        lhs = np.nonzero(x <= self.split)[0]\n",
        "        rhs = np.nonzero(x > self.split)[0]\n",
        "        self.lhs = Node_Id3(self.x, self.y, self.idxs[lhs], self.min_leaf)\n",
        "        self.rhs = Node_Id3(self.x, self.y, self.idxs[rhs], self.min_leaf)\n",
        "        \n",
        "    def find_better_split(self, var_idx):\n",
        "      \n",
        "        x = self.x.values[self.idxs, var_idx]\n",
        "\n",
        "        for r in range(self.row_count):\n",
        "            lhs = x <= x[r]\n",
        "            rhs = x > x[r]\n",
        "            if rhs.sum() < self.min_leaf or lhs.sum() < self.min_leaf: continue\n",
        "\n",
        "            curr_score = self.find_score(lhs, rhs)\n",
        "            if curr_score < self.score: \n",
        "                self.var_idx = var_idx\n",
        "                self.score = curr_score\n",
        "                self.split = x[r]\n",
        "                \n",
        "    def find_score(self, lhs, rhs):\n",
        "        y = self.y[self.idxs]\n",
        "        lhs_std = y[lhs].std()\n",
        "        rhs_std = y[rhs].std()\n",
        "        return lhs_std * lhs.sum() + rhs_std * rhs.sum()\n",
        "                \n",
        "    @property\n",
        "    def split_col(self): return self.x.values[self.idxs,self.var_idx]\n",
        "                \n",
        "    @property\n",
        "    def is_leaf(self): return self.score == float('inf')                \n",
        "\n",
        "    def predict_arr(self, x):\n",
        "        return np.array([self.predict_row(xi) for xi in x])\n",
        "\n",
        "    def predict_row(self, xi):\n",
        "        if self.is_leaf: return self.val\n",
        "        node = self.lhs if xi[self.var_idx] <= self.split else self.rhs\n",
        "        return node.predict_row(xi)"
      ],
      "metadata": {
        "id": "UHd5Zp0NOux-"
      },
      "execution_count": null,
      "outputs": []
    },
    {
      "cell_type": "code",
      "source": [
        "class ID3Af:\n",
        "\n",
        "  def __init__(self,min_leaf):\n",
        "    self.min_leaf=min_leaf\n",
        "  \n",
        "  def fit(self, X, y):\n",
        "    min_leaf = self.min_leaf\n",
        "    self.dtree = Node_Id3(X, y, np.array(np.arange(len(y))), min_leaf)\n",
        "    return self\n",
        "  \n",
        "  def predict_Id3(self, X):\n",
        "    return self.dtree.predict_arr(X)\n",
        "\n",
        "y_train= y_train.reset_index()\n",
        "y_train =y_train['new_cases']\n"
      ],
      "metadata": {
        "id": "n46g7v7n8WAH"
      },
      "execution_count": null,
      "outputs": []
    },
    {
      "cell_type": "code",
      "source": [
        "from collections import Counter\n",
        "\n",
        "\n",
        "def avg_val(y):\n",
        "    return(np.mean(y))\n",
        "\n",
        "class ID3Forest:\n",
        "    \n",
        "    def __init__(self, n_trees=3,min_leaf=5):\n",
        "        self.n_trees = n_trees\n",
        "        self.min_leaf=min_leaf\n",
        "        self.trees = []\n",
        "\n",
        "    def fit(self, X, y):\n",
        "        self.trees = []\n",
        "        for _ in range(self.n_trees):\n",
        "            tree = ID3Af(min_leaf=self.min_leaf)\n",
        "            X_samp, y_samp = X, y\n",
        "            tree.fit(X_samp, y_samp)\n",
        "            self.trees.append(tree)\n",
        "\n",
        "    def predict(self, X):\n",
        "        tree_preds = np.array([tree.predict_Id3(X) for tree in self.trees])\n",
        "        tree_preds = np.swapaxes(tree_preds, 0, 1)\n",
        "        \n",
        "        y_pred = [avg_val(tree_pred) for tree_pred in tree_preds]\n",
        "        return np.array(y_pred)"
      ],
      "metadata": {
        "id": "gDpKI25fJE85"
      },
      "execution_count": null,
      "outputs": []
    },
    {
      "cell_type": "code",
      "source": [
        "clf2 = ID3Forest(n_trees = 5)\n",
        "clf2.fit(X_train,y_train)\n",
        "\n",
        "test=[]\n",
        "\n",
        "for index, rows in X_test.iterrows():\n",
        "    my_list =[rows.retail_and_recreation, rows.grocery_and_pharmacy, rows.residential, rows.transit_stations, rows.parks, rows.workplaces,rows.centroid,rows.error]\n",
        "    test.append(my_list)\n",
        "\n",
        "y_predictions = clf2.predict(test) \n"
      ],
      "metadata": {
        "id": "H2VnmPEXJJk5"
      },
      "execution_count": null,
      "outputs": []
    },
    {
      "cell_type": "code",
      "source": [
        "# y_pred"
      ],
      "metadata": {
        "id": "fVESBY4RJKqk"
      },
      "execution_count": null,
      "outputs": []
    },
    {
      "cell_type": "code",
      "source": [
        "from sklearn.metrics import mean_squared_error\n",
        "\n",
        "rmse=np.sqrt(mean_squared_error(y_test,y_predictions))"
      ],
      "metadata": {
        "id": "2nXqaVVaJQ5E"
      },
      "execution_count": null,
      "outputs": []
    },
    {
      "cell_type": "code",
      "source": [
        "rmse"
      ],
      "metadata": {
        "colab": {
          "base_uri": "https://localhost:8080/"
        },
        "id": "FxY2Mt9aJSEI",
        "outputId": "778aede9-2c09-44bc-ceff-aaa52aaba161"
      },
      "execution_count": null,
      "outputs": [
        {
          "output_type": "execute_result",
          "data": {
            "text/plain": [
              "33714.19424102068"
            ]
          },
          "metadata": {},
          "execution_count": 566
        }
      ]
    },
    {
      "cell_type": "code",
      "source": [
        "score=r2_score(y_test,y_predictions)\n",
        "score"
      ],
      "metadata": {
        "colab": {
          "base_uri": "https://localhost:8080/"
        },
        "id": "haLIVIbNKnrY",
        "outputId": "1462d946-78c7-4850-e659-1c6799fa0107"
      },
      "execution_count": null,
      "outputs": [
        {
          "output_type": "execute_result",
          "data": {
            "text/plain": [
              "0.8217371429120209"
            ]
          },
          "metadata": {},
          "execution_count": 567
        }
      ]
    },
    {
      "cell_type": "code",
      "source": [
        "import seaborn as sns\n",
        "plt.figure(figsize=(8, 8))\n",
        "\n",
        "\n",
        "ax = sns.distplot(y_test, hist=False, color=\"r\", label=\"Actual Value\")\n",
        "sns.distplot(y_predictions, hist=False, color=\"b\", label=\"Fitted Values\" , ax=ax)\n",
        "\n",
        "\n",
        "plt.title('Actual vs Fitted Values')\n",
        "\n",
        "\n",
        "plt.show()\n",
        "plt.close()"
      ],
      "metadata": {
        "colab": {
          "base_uri": "https://localhost:8080/",
          "height": 602
        },
        "id": "800XOlP2LS8c",
        "outputId": "22bcceea-58c9-4ab2-ae31-6024d95e008a"
      },
      "execution_count": null,
      "outputs": [
        {
          "output_type": "stream",
          "name": "stderr",
          "text": [
            "/usr/local/lib/python3.7/dist-packages/seaborn/distributions.py:2619: FutureWarning: `distplot` is a deprecated function and will be removed in a future version. Please adapt your code to use either `displot` (a figure-level function with similar flexibility) or `kdeplot` (an axes-level function for kernel density plots).\n",
            "  warnings.warn(msg, FutureWarning)\n",
            "/usr/local/lib/python3.7/dist-packages/seaborn/distributions.py:2619: FutureWarning: `distplot` is a deprecated function and will be removed in a future version. Please adapt your code to use either `displot` (a figure-level function with similar flexibility) or `kdeplot` (an axes-level function for kernel density plots).\n",
            "  warnings.warn(msg, FutureWarning)\n"
          ]
        },
        {
          "output_type": "display_data",
          "data": {
            "text/plain": [
              "<Figure size 576x576 with 1 Axes>"
            ],
            "image/png": "[encoded data removed]"
          },
          "metadata": {
            "needs_background": "light"
          }
        }
      ]
    },
    {
      "cell_type": "markdown",
      "source": [
        "Compare the accuracy and performance of K-means Forests created\n",
        "using CART and ID3-A for parts A. and B."
      ],
      "metadata": {
        "id": "fmFCpQL1CLQg"
      }
    },
    {
      "cell_type": "code",
      "source": [
        "import seaborn as sns\n",
        "plt.figure(figsize=(8, 8))\n",
        "\n",
        "\n",
        "ax = sns.distplot(y_test, hist=False, color=\"r\", label=\"Actual Value\")\n",
        "sns.distplot(y_predictions, hist=False, color=\"b\", label=\"Fitted Values\" , ax=ax)\n",
        "sns.distplot(y_pred, hist=False, color=\"g\", label=\"Fitted Values\" , ax=ax)\n",
        "\n",
        "plt.title('Actual vs Fitted Values ')\n",
        "\n",
        "\n",
        "plt.show()\n",
        "plt.close()"
      ],
      "metadata": {
        "colab": {
          "base_uri": "https://localhost:8080/",
          "height": 637
        },
        "id": "bHBZ326lCOnj",
        "outputId": "227f33f9-8a2d-4d15-eb63-772b0198f62a"
      },
      "execution_count": null,
      "outputs": [
        {
          "output_type": "stream",
          "name": "stderr",
          "text": [
            "/usr/local/lib/python3.7/dist-packages/seaborn/distributions.py:2619: FutureWarning: `distplot` is a deprecated function and will be removed in a future version. Please adapt your code to use either `displot` (a figure-level function with similar flexibility) or `kdeplot` (an axes-level function for kernel density plots).\n",
            "  warnings.warn(msg, FutureWarning)\n",
            "/usr/local/lib/python3.7/dist-packages/seaborn/distributions.py:2619: FutureWarning: `distplot` is a deprecated function and will be removed in a future version. Please adapt your code to use either `displot` (a figure-level function with similar flexibility) or `kdeplot` (an axes-level function for kernel density plots).\n",
            "  warnings.warn(msg, FutureWarning)\n",
            "/usr/local/lib/python3.7/dist-packages/seaborn/distributions.py:2619: FutureWarning: `distplot` is a deprecated function and will be removed in a future version. Please adapt your code to use either `displot` (a figure-level function with similar flexibility) or `kdeplot` (an axes-level function for kernel density plots).\n",
            "  warnings.warn(msg, FutureWarning)\n"
          ]
        },
        {
          "output_type": "display_data",
          "data": {
            "text/plain": [
              "<Figure size 576x576 with 1 Axes>"
            ],
            "image/png": "[encoded data removed]"
          },
          "metadata": {
            "needs_background": "light"
          }
        }
      ]
    },
    {
      "cell_type": "markdown",
      "source": [
        "RMSE AND R2 SCORE IS CALCULATED ABOVE FOR EACH ALGORITHM USED \n",
        "IN MY CASE ID3A IS GIVING BETTER RESULT THAN CART "
      ],
      "metadata": {
        "id": "wEz9jY46TeTe"
      }
    }
  ]
}